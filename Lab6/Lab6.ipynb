{
 "cells": [
  {
   "cell_type": "code",
   "execution_count": 1,
   "metadata": {},
   "outputs": [
    {
     "name": "stdout",
     "output_type": "stream",
     "text": [
      "Requirement already satisfied: nltk in c:\\users\\horifox\\anaconda3\\lib\\site-packages (3.5)\n",
      "Requirement already satisfied: joblib in c:\\users\\horifox\\anaconda3\\lib\\site-packages (from nltk) (0.16.0)\n",
      "Requirement already satisfied: regex in c:\\users\\horifox\\anaconda3\\lib\\site-packages (from nltk) (2020.6.8)\n",
      "Requirement already satisfied: click in c:\\users\\horifox\\anaconda3\\lib\\site-packages (from nltk) (7.1.2)\n",
      "Requirement already satisfied: tqdm in c:\\users\\horifox\\anaconda3\\lib\\site-packages (from nltk) (4.47.0)\n"
     ]
    },
    {
     "name": "stderr",
     "output_type": "stream",
     "text": [
      "C:\\Users\\HoriFox\\anaconda3\\lib\\runpy.py:127: RuntimeWarning: 'nltk.downloader' found in sys.modules after import of package 'nltk', but prior to execution of 'nltk.downloader'; this may result in unpredictable behaviour\n",
      "  warn(RuntimeWarning(msg))\n",
      "[nltk_data] Downloading package stopwords to\n",
      "[nltk_data]     C:\\Users\\HoriFox\\AppData\\Roaming\\nltk_data...\n",
      "[nltk_data]   Unzipping corpora\\stopwords.zip.\n"
     ]
    }
   ],
   "source": [
    "!pip install nltk\n",
    "!python -m nltk.downloader stopwords"
   ]
  },
  {
   "cell_type": "code",
   "execution_count": 8,
   "metadata": {},
   "outputs": [
    {
     "name": "stdout",
     "output_type": "stream",
     "text": [
      "Collecting gensim\n",
      "  Downloading gensim-4.0.1-cp38-cp38-win_amd64.whl (23.9 MB)\n",
      "Requirement already satisfied: smart-open>=1.8.1 in c:\\users\\horifox\\anaconda3\\lib\\site-packages (from gensim) (3.0.0)\n",
      "Requirement already satisfied: Cython==0.29.21 in c:\\users\\horifox\\anaconda3\\lib\\site-packages (from gensim) (0.29.21)\n",
      "Requirement already satisfied: scipy>=0.18.1 in c:\\users\\horifox\\anaconda3\\lib\\site-packages (from gensim) (1.5.0)\n",
      "Requirement already satisfied: numpy>=1.11.3 in c:\\users\\horifox\\anaconda3\\lib\\site-packages (from gensim) (1.19.5)\n",
      "Requirement already satisfied: requests in c:\\users\\horifox\\anaconda3\\lib\\site-packages (from smart-open>=1.8.1->gensim) (2.24.0)\n",
      "Requirement already satisfied: chardet<4,>=3.0.2 in c:\\users\\horifox\\anaconda3\\lib\\site-packages (from requests->smart-open>=1.8.1->gensim) (3.0.4)\n",
      "Requirement already satisfied: urllib3!=1.25.0,!=1.25.1,<1.26,>=1.21.1 in c:\\users\\horifox\\anaconda3\\lib\\site-packages (from requests->smart-open>=1.8.1->gensim) (1.25.9)\n",
      "Requirement already satisfied: certifi>=2017.4.17 in c:\\users\\horifox\\anaconda3\\lib\\site-packages (from requests->smart-open>=1.8.1->gensim) (2020.6.20)\n",
      "Requirement already satisfied: idna<3,>=2.5 in c:\\users\\horifox\\anaconda3\\lib\\site-packages (from requests->smart-open>=1.8.1->gensim) (2.10)\n",
      "Installing collected packages: gensim\n",
      "Successfully installed gensim-4.0.1\n"
     ]
    }
   ],
   "source": [
    "!pip install gensim"
   ]
  },
  {
   "cell_type": "code",
   "execution_count": 9,
   "metadata": {},
   "outputs": [
    {
     "name": "stderr",
     "output_type": "stream",
     "text": [
      "C:\\Users\\HoriFox\\anaconda3\\lib\\site-packages\\gensim\\similarities\\__init__.py:15: UserWarning: The gensim.similarities.levenshtein submodule is disabled, because the optional Levenshtein package <https://pypi.org/project/python-Levenshtein/> is unavailable. Install Levenhstein (e.g. `pip install python-Levenshtein`) to suppress this warning.\n",
      "  warnings.warn(msg)\n",
      "[nltk_data] Downloading package stopwords to\n",
      "[nltk_data]     C:\\Users\\HoriFox\\AppData\\Roaming\\nltk_data...\n",
      "[nltk_data]   Package stopwords is already up-to-date!\n"
     ]
    }
   ],
   "source": [
    "import numpy as np\n",
    "import pandas as pd\n",
    "from typing import Dict, Tuple\n",
    "from scipy import stats\n",
    "import zipfile\n",
    "import os\n",
    "from IPython.display import Image\n",
    "from sklearn.datasets import load_iris, load_boston\n",
    "from sklearn.feature_extraction.text import CountVectorizer, TfidfVectorizer\n",
    "from sklearn.model_selection import train_test_split\n",
    "from sklearn.neighbors import KNeighborsRegressor, KNeighborsClassifier\n",
    "from sklearn.linear_model import LogisticRegression\n",
    "from sklearn.model_selection import GridSearchCV, RandomizedSearchCV\n",
    "from sklearn.metrics import accuracy_score, balanced_accuracy_score\n",
    "from sklearn.metrics import precision_score, recall_score, f1_score, classification_report\n",
    "from sklearn.metrics import confusion_matrix\n",
    "from sklearn.model_selection import cross_val_score\n",
    "from sklearn.pipeline import Pipeline\n",
    "from sklearn.metrics import mean_absolute_error, mean_squared_error, mean_squared_log_error, median_absolute_error, r2_score \n",
    "from sklearn.metrics import roc_curve, roc_auc_score\n",
    "from sklearn.svm import SVC, NuSVC, LinearSVC, OneClassSVM, SVR, NuSVR, LinearSVR\n",
    "import seaborn as sns\n",
    "from collections import Counter\n",
    "from sklearn.datasets import fetch_20newsgroups\n",
    "import matplotlib.pyplot as plt\n",
    "import gensim\n",
    "from gensim.models import word2vec\n",
    "\n",
    "import re\n",
    "from sklearn.pipeline import Pipeline\n",
    "from nltk import WordPunctTokenizer\n",
    "from nltk.corpus import stopwords\n",
    "import nltk\n",
    "nltk.download('stopwords')\n",
    "\n",
    "%matplotlib inline \n",
    "sns.set(style=\"ticks\")\n",
    "\n",
    "import warnings\n",
    "warnings.filterwarnings('ignore')"
   ]
  },
  {
   "cell_type": "code",
   "execution_count": 10,
   "metadata": {},
   "outputs": [],
   "source": [
    "# Обозначим категории, которые желаем загрузить\n",
    "categories = [\"sci.crypt\", \n",
    "              \"sci.electronics\", \n",
    "              \"talk.religion.misc\", \n",
    "              \"rec.sport.baseball\"]\n",
    "newsgroups = fetch_20newsgroups(subset='train', categories=categories)\n",
    "data = newsgroups['data']"
   ]
  },
  {
   "cell_type": "code",
   "execution_count": 11,
   "metadata": {},
   "outputs": [],
   "source": [
    "# Используемся отработанной функцией вычисления метрики\n",
    "def accuracy_score_for_classes(\n",
    "    y_true: np.ndarray, \n",
    "    y_pred: np.ndarray) -> Dict[int, float]:\n",
    "    \"\"\"\n",
    "    Вычисление метрики accuracy для каждого класса\n",
    "    y_true - истинные значения классов\n",
    "    y_pred - предсказанные значения классов\n",
    "    Возвращает словарь: ключ - метка класса, \n",
    "    значение - Accuracy для данного класса\n",
    "    \"\"\"\n",
    "    # Для удобства фильтрации сформируем Pandas DataFrame \n",
    "    d = {'t': y_true, 'p': y_pred}\n",
    "    df = pd.DataFrame(data=d)\n",
    "    # Метки классов\n",
    "    classes = np.unique(y_true)\n",
    "    # Результирующий словарь\n",
    "    res = dict()\n",
    "    # Перебор меток классов\n",
    "    for c in classes:\n",
    "        # отфильтруем данные, которые соответствуют \n",
    "        # текущей метке класса в истинных значениях\n",
    "        temp_data_flt = df[df['t']==c]\n",
    "        # расчет accuracy для заданной метки класса\n",
    "        temp_acc = accuracy_score(\n",
    "            temp_data_flt['t'].values, \n",
    "            temp_data_flt['p'].values)\n",
    "        # сохранение результата в словарь\n",
    "        res[c] = temp_acc\n",
    "    return res\n",
    "\n",
    "def print_accuracy_score_for_classes(\n",
    "    y_true: np.ndarray, \n",
    "    y_pred: np.ndarray):\n",
    "    \"\"\"\n",
    "    Вывод метрики accuracy для каждого класса\n",
    "    \"\"\"\n",
    "    accs = accuracy_score_for_classes(y_true, y_pred)\n",
    "    if len(accs)>0:\n",
    "        print('Метка \\t Accuracy')\n",
    "    for i in accs:\n",
    "        print('{} \\t {}'.format(i, accs[i]))"
   ]
  },
  {
   "cell_type": "code",
   "execution_count": 12,
   "metadata": {},
   "outputs": [
    {
     "name": "stdout",
     "output_type": "stream",
     "text": [
      "Количество сформированных признаков - 33282\n"
     ]
    }
   ],
   "source": [
    "# С помощью CountVectorizer преобразуем коллекцию текстовых данных в матрицу счётчиков токенов\n",
    "vocabVect = CountVectorizer()\n",
    "vocabVect.fit(data)\n",
    "corpusVocab = vocabVect.vocabulary_\n",
    "print('Количество сформированных признаков - {}'.format(len(corpusVocab)))"
   ]
  },
  {
   "cell_type": "code",
   "execution_count": 13,
   "metadata": {},
   "outputs": [
    {
     "name": "stdout",
     "output_type": "stream",
     "text": [
      "philly=23632\n",
      "ravel=25268\n",
      "udel=30929\n",
      "edu=12456\n",
      "robert=26356\n",
      "hite=16186\n",
      "subject=29047\n",
      "re=25308\n",
      "dave=10693\n"
     ]
    }
   ],
   "source": [
    "# Отобразим нашу матрицу\n",
    "for i in list(corpusVocab)[1:10]:\n",
    "    print('{}={}'.format(i, corpusVocab[i]))"
   ]
  },
  {
   "cell_type": "code",
   "execution_count": 14,
   "metadata": {},
   "outputs": [],
   "source": [
    "test_features = vocabVect.transform(data)"
   ]
  },
  {
   "cell_type": "code",
   "execution_count": 15,
   "metadata": {},
   "outputs": [
    {
     "data": {
      "text/plain": [
       "<2160x33282 sparse matrix of type '<class 'numpy.int64'>'\n",
       "\twith 339881 stored elements in Compressed Sparse Row format>"
      ]
     },
     "execution_count": 15,
     "metadata": {},
     "output_type": "execute_result"
    }
   ],
   "source": [
    "test_features"
   ]
  },
  {
   "cell_type": "code",
   "execution_count": 16,
   "metadata": {},
   "outputs": [
    {
     "data": {
      "text/plain": [
       "matrix([[0, 3, 0, ..., 0, 0, 0],\n",
       "        [0, 0, 0, ..., 0, 0, 0],\n",
       "        [0, 0, 0, ..., 0, 0, 0],\n",
       "        ...,\n",
       "        [0, 0, 0, ..., 0, 0, 0],\n",
       "        [0, 0, 0, ..., 0, 0, 0],\n",
       "        [0, 0, 0, ..., 0, 0, 0]], dtype=int64)"
      ]
     },
     "execution_count": 16,
     "metadata": {},
     "output_type": "execute_result"
    }
   ],
   "source": [
    "test_features.todense()"
   ]
  },
  {
   "cell_type": "code",
   "execution_count": 17,
   "metadata": {},
   "outputs": [
    {
     "data": {
      "text/plain": [
       "33282"
      ]
     },
     "execution_count": 17,
     "metadata": {},
     "output_type": "execute_result"
    }
   ],
   "source": [
    "# Размер нулевой строки\n",
    "len(test_features.todense()[0].getA1())"
   ]
  },
  {
   "cell_type": "code",
   "execution_count": 18,
   "metadata": {},
   "outputs": [
    {
     "data": {
      "text/plain": [
       "['00101101b',\n",
       " '00101110',\n",
       " '00101110b',\n",
       " '00101111',\n",
       " '00101111b',\n",
       " '0011',\n",
       " '00110000',\n",
       " '00110000b',\n",
       " '00110001',\n",
       " '00110001b',\n",
       " '00110010',\n",
       " '00110010b',\n",
       " '00110011',\n",
       " '00110011b',\n",
       " '00110100',\n",
       " '00110100b',\n",
       " '00110101',\n",
       " '00110101b',\n",
       " '00110110',\n",
       " '00110110b']"
      ]
     },
     "execution_count": 18,
     "metadata": {},
     "output_type": "execute_result"
    }
   ],
   "source": [
    "vocabVect.get_feature_names()[100:120]"
   ]
  },
  {
   "cell_type": "code",
   "execution_count": 19,
   "metadata": {},
   "outputs": [],
   "source": [
    "# Функция применения к текстовым данных различных вариантов векторизации и классификации с использованием кросс-валидации\n",
    "def VectorizeAndClassify(vectorizers_list, classifiers_list):\n",
    "    for v in vectorizers_list:\n",
    "        for c in classifiers_list:\n",
    "            pipeline1 = Pipeline([(\"vectorizer\", v), (\"classifier\", c)])\n",
    "            score = cross_val_score(pipeline1, newsgroups['data'], newsgroups['target'], scoring='accuracy', cv=3).mean()\n",
    "            print('Векторизация - {}'.format(v))\n",
    "            print('Модель для классификации - {}'.format(c))\n",
    "            print('Accuracy = {}'.format(score))\n",
    "            print('===========================')"
   ]
  },
  {
   "cell_type": "code",
   "execution_count": 20,
   "metadata": {},
   "outputs": [
    {
     "name": "stdout",
     "output_type": "stream",
     "text": [
      "Векторизация - CountVectorizer(vocabulary={'00': 0, '000': 1, '00000000': 2, '00000000b': 3,\n",
      "                            '00000001': 4, '00000001b': 5, '00000010': 6,\n",
      "                            '00000010b': 7, '00000011': 8, '00000011b': 9,\n",
      "                            '00000100': 10, '00000100b': 11, '00000101': 12,\n",
      "                            '00000101b': 13, '00000110': 14, '00000110b': 15,\n",
      "                            '00000111': 16, '00000111b': 17, '00001000': 18,\n",
      "                            '00001000b': 19, '00001001': 20, '00001001b': 21,\n",
      "                            '00001010': 22, '00001010b': 23, '00001011': 24,\n",
      "                            '00001011b': 25, '00001100': 26, '00001100b': 27,\n",
      "                            '00001101': 28, '00001101b': 29, ...})\n",
      "Модель для классификации - LogisticRegression(C=3.0)\n",
      "Accuracy = 0.9560185185185186\n",
      "===========================\n",
      "Векторизация - CountVectorizer(vocabulary={'00': 0, '000': 1, '00000000': 2, '00000000b': 3,\n",
      "                            '00000001': 4, '00000001b': 5, '00000010': 6,\n",
      "                            '00000010b': 7, '00000011': 8, '00000011b': 9,\n",
      "                            '00000100': 10, '00000100b': 11, '00000101': 12,\n",
      "                            '00000101b': 13, '00000110': 14, '00000110b': 15,\n",
      "                            '00000111': 16, '00000111b': 17, '00001000': 18,\n",
      "                            '00001000b': 19, '00001001': 20, '00001001b': 21,\n",
      "                            '00001010': 22, '00001010b': 23, '00001011': 24,\n",
      "                            '00001011b': 25, '00001100': 26, '00001100b': 27,\n",
      "                            '00001101': 28, '00001101b': 29, ...})\n",
      "Модель для классификации - LinearSVC()\n",
      "Accuracy = 0.9611111111111111\n",
      "===========================\n",
      "Векторизация - CountVectorizer(vocabulary={'00': 0, '000': 1, '00000000': 2, '00000000b': 3,\n",
      "                            '00000001': 4, '00000001b': 5, '00000010': 6,\n",
      "                            '00000010b': 7, '00000011': 8, '00000011b': 9,\n",
      "                            '00000100': 10, '00000100b': 11, '00000101': 12,\n",
      "                            '00000101b': 13, '00000110': 14, '00000110b': 15,\n",
      "                            '00000111': 16, '00000111b': 17, '00001000': 18,\n",
      "                            '00001000b': 19, '00001001': 20, '00001001b': 21,\n",
      "                            '00001010': 22, '00001010b': 23, '00001011': 24,\n",
      "                            '00001011b': 25, '00001100': 26, '00001100b': 27,\n",
      "                            '00001101': 28, '00001101b': 29, ...})\n",
      "Модель для классификации - KNeighborsClassifier()\n",
      "Accuracy = 0.6773148148148147\n",
      "===========================\n"
     ]
    }
   ],
   "source": [
    "# Определяем варианты векторизации и классификации и устанавливаем преднастройки\n",
    "vectorizers_list = [CountVectorizer(vocabulary = corpusVocab)]\n",
    "classifiers_list = [LogisticRegression(C=3.0), LinearSVC(), KNeighborsClassifier()]\n",
    "VectorizeAndClassify(vectorizers_list, classifiers_list)"
   ]
  },
  {
   "cell_type": "code",
   "execution_count": 21,
   "metadata": {},
   "outputs": [],
   "source": [
    "# Using the stopwords.\n",
    "from nltk.corpus import stopwords\n",
    "\n",
    "# Initialize the stopwords\n",
    "stoplist = stopwords.words('english')"
   ]
  },
  {
   "cell_type": "code",
   "execution_count": 22,
   "metadata": {},
   "outputs": [],
   "source": [
    "# Подготовим корпус\n",
    "corpus = []\n",
    "stop_words = stopwords.words('english')\n",
    "tok = WordPunctTokenizer()\n",
    "for line in newsgroups['data']:\n",
    "    line1 = line.strip().lower()\n",
    "    line1 = re.sub(\"[^a-zA-Z]\",\" \", line1)\n",
    "    text_tok = tok.tokenize(line1)\n",
    "    text_tok1 = [w for w in text_tok if not w in stop_words]\n",
    "    corpus.append(text_tok1)"
   ]
  },
  {
   "cell_type": "code",
   "execution_count": 26,
   "metadata": {},
   "outputs": [
    {
     "data": {
      "text/plain": [
       "['sweda',\n",
       " 'css',\n",
       " 'itd',\n",
       " 'umich',\n",
       " 'edu',\n",
       " 'sean',\n",
       " 'sweda',\n",
       " 'subject',\n",
       " 'royals',\n",
       " 'final',\n",
       " 'run',\n",
       " 'total',\n",
       " 'organization',\n",
       " 'university',\n",
       " 'michigan',\n",
       " 'itd',\n",
       " 'consulting',\n",
       " 'support',\n",
       " 'lines',\n",
       " 'nntp',\n",
       " 'posting',\n",
       " 'host',\n",
       " 'stimpy',\n",
       " 'css',\n",
       " 'itd',\n",
       " 'umich',\n",
       " 'edu',\n",
       " 'x',\n",
       " 'newsreader',\n",
       " 'tin',\n",
       " 'version',\n",
       " 'pl',\n",
       " 'saying',\n",
       " 'quite',\n",
       " 'time',\n",
       " 'absent',\n",
       " 'net',\n",
       " 'figured',\n",
       " 'stick',\n",
       " 'neck',\n",
       " 'bit',\n",
       " 'royals',\n",
       " 'set',\n",
       " 'record',\n",
       " 'fewest',\n",
       " 'runs',\n",
       " 'scored',\n",
       " 'al',\n",
       " 'team',\n",
       " 'since',\n",
       " 'inception',\n",
       " 'dh',\n",
       " 'rule',\n",
       " 'p',\n",
       " 'ideas',\n",
       " 'fall',\n",
       " 'easily',\n",
       " 'short',\n",
       " 'runs',\n",
       " 'damn',\n",
       " 'sure',\n",
       " 'believe',\n",
       " 'media',\n",
       " 'fools',\n",
       " 'picking',\n",
       " 'win',\n",
       " 'division',\n",
       " 'like',\n",
       " 'tom',\n",
       " 'gage',\n",
       " 'detroit',\n",
       " 'news',\n",
       " 'claiming',\n",
       " 'herk',\n",
       " 'robinson',\n",
       " 'kind',\n",
       " 'genius',\n",
       " 'trades',\n",
       " 'aquisitions',\n",
       " 'made',\n",
       " 'c',\n",
       " 'ya',\n",
       " 'sean',\n",
       " 'sean',\n",
       " 'sweda',\n",
       " 'sweda',\n",
       " 'css',\n",
       " 'itd',\n",
       " 'umich',\n",
       " 'edu',\n",
       " 'css',\n",
       " 'itd',\n",
       " 'consultant',\n",
       " 'president',\n",
       " 'bob',\n",
       " 'sura',\n",
       " 'fan',\n",
       " 'club',\n",
       " 'gm',\n",
       " 'manager',\n",
       " 'motor',\n",
       " 'city',\n",
       " 'marauders',\n",
       " 'internet',\n",
       " 'baseball',\n",
       " 'league',\n",
       " 'play',\n",
       " 'ball']"
      ]
     },
     "execution_count": 26,
     "metadata": {},
     "output_type": "execute_result"
    }
   ],
   "source": [
    "corpus[1]"
   ]
  },
  {
   "cell_type": "code",
   "execution_count": 27,
   "metadata": {},
   "outputs": [
    {
     "name": "stdout",
     "output_type": "stream",
     "text": [
      "Wall time: 1.95 s\n"
     ]
    }
   ],
   "source": [
    "%time model = word2vec.Word2Vec(corpus)"
   ]
  },
  {
   "cell_type": "code",
   "execution_count": 28,
   "metadata": {},
   "outputs": [
    {
     "name": "stdout",
     "output_type": "stream",
     "text": [
      "[('elvis', 0.8723364472389221), ('anchor', 0.8669361472129822), ('smb', 0.8620975613594055), ('att', 0.8582748770713806), ('jgk', 0.853305459022522)]\n"
     ]
    }
   ],
   "source": [
    "# Проверим, что модель обучилась\n",
    "print(model.wv.most_similar(positive=['subject'], topn=5))"
   ]
  },
  {
   "cell_type": "code",
   "execution_count": 29,
   "metadata": {},
   "outputs": [],
   "source": [
    "def sentiment(v, c):\n",
    "    model = Pipeline(\n",
    "        [(\"vectorizer\", v), \n",
    "         (\"classifier\", c)])\n",
    "    model.fit(X_train, y_train)\n",
    "    y_pred = model.predict(X_test)\n",
    "    print_accuracy_score_for_classes(y_test, y_pred)"
   ]
  },
  {
   "cell_type": "code",
   "execution_count": 30,
   "metadata": {},
   "outputs": [],
   "source": [
    "class EmbeddingVectorizer(object):\n",
    "    '''\n",
    "    Для текста усредним вектора входящих в него слов\n",
    "    '''\n",
    "    def __init__(self, model):\n",
    "        self.model = model\n",
    "        self.size = model.vector_size\n",
    "\n",
    "    def fit(self, X, y):\n",
    "        return self\n",
    "\n",
    "    def transform(self, X):\n",
    "        return np.array([np.mean(\n",
    "            [self.model[w] for w in words if w in self.model] \n",
    "            or [np.zeros(self.size)], axis=0)\n",
    "            for words in X])"
   ]
  },
  {
   "cell_type": "code",
   "execution_count": 31,
   "metadata": {},
   "outputs": [
    {
     "name": "stdout",
     "output_type": "stream",
     "text": [
      "Метка \t Accuracy\n",
      "0 \t 0.8956310679611651\n",
      "1 \t 0.8948717948717949\n",
      "2 \t 0.8098765432098766\n",
      "3 \t 0.7233201581027668\n"
     ]
    }
   ],
   "source": [
    "# Обучающая и тестовая выборки\n",
    "boundary = 700\n",
    "X_train = corpus[:boundary] \n",
    "X_test = corpus[boundary:]\n",
    "y_train = newsgroups['target'][:boundary]\n",
    "y_test = newsgroups['target'][boundary:]\n",
    "sentiment(EmbeddingVectorizer(model.wv), LogisticRegression(C=5.0))"
   ]
  },
  {
   "cell_type": "code",
   "execution_count": null,
   "metadata": {},
   "outputs": [],
   "source": []
  }
 ],
 "metadata": {
  "kernelspec": {
   "display_name": "Python 3",
   "language": "python",
   "name": "python3"
  },
  "language_info": {
   "codemirror_mode": {
    "name": "ipython",
    "version": 3
   },
   "file_extension": ".py",
   "mimetype": "text/x-python",
   "name": "python",
   "nbconvert_exporter": "python",
   "pygments_lexer": "ipython3",
   "version": "3.8.3"
  }
 },
 "nbformat": 4,
 "nbformat_minor": 4
}
