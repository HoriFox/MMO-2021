{
 "cells": [
  {
   "cell_type": "code",
   "execution_count": 26,
   "metadata": {},
   "outputs": [
    {
     "name": "stdout",
     "output_type": "stream",
     "text": [
      "Requirement already satisfied: surprise in c:\\users\\horifox\\anaconda3\\lib\\site-packages (0.1)\n",
      "Requirement already satisfied: scikit-surprise in c:\\users\\horifox\\anaconda3\\lib\\site-packages (from surprise) (1.1.1)\n",
      "Requirement already satisfied: joblib>=0.11 in c:\\users\\horifox\\anaconda3\\lib\\site-packages (from scikit-surprise->surprise) (0.16.0)\n",
      "Requirement already satisfied: numpy>=1.11.2 in c:\\users\\horifox\\anaconda3\\lib\\site-packages (from scikit-surprise->surprise) (1.18.5)\n",
      "Requirement already satisfied: scipy>=1.0.0 in c:\\users\\horifox\\anaconda3\\lib\\site-packages (from scikit-surprise->surprise) (1.5.0)\n",
      "Requirement already satisfied: six>=1.10.0 in c:\\users\\horifox\\appdata\\roaming\\python\\python38\\site-packages (from scikit-surprise->surprise) (1.15.0)\n"
     ]
    }
   ],
   "source": [
    "!pip install surprise"
   ]
  },
  {
   "cell_type": "code",
   "execution_count": 4,
   "metadata": {},
   "outputs": [
    {
     "name": "stdout",
     "output_type": "stream",
     "text": [
      "Collecting matplotlib_venn\n",
      "  Downloading matplotlib-venn-0.11.6.tar.gz (29 kB)\n",
      "Requirement already satisfied: matplotlib in c:\\users\\horifox\\anaconda3\\lib\\site-packages (from matplotlib_venn) (3.2.2)\n",
      "Requirement already satisfied: numpy in c:\\users\\horifox\\anaconda3\\lib\\site-packages (from matplotlib_venn) (1.18.5)\n",
      "Requirement already satisfied: scipy in c:\\users\\horifox\\anaconda3\\lib\\site-packages (from matplotlib_venn) (1.5.0)\n",
      "Requirement already satisfied: kiwisolver>=1.0.1 in c:\\users\\horifox\\anaconda3\\lib\\site-packages (from matplotlib->matplotlib_venn) (1.2.0)\n",
      "Requirement already satisfied: cycler>=0.10 in c:\\users\\horifox\\anaconda3\\lib\\site-packages (from matplotlib->matplotlib_venn) (0.10.0)\n",
      "Requirement already satisfied: python-dateutil>=2.1 in c:\\users\\horifox\\anaconda3\\lib\\site-packages (from matplotlib->matplotlib_venn) (2.8.1)\n",
      "Requirement already satisfied: pyparsing!=2.0.4,!=2.1.2,!=2.1.6,>=2.0.1 in c:\\users\\horifox\\anaconda3\\lib\\site-packages (from matplotlib->matplotlib_venn) (2.4.7)\n",
      "Requirement already satisfied: six in c:\\users\\horifox\\appdata\\roaming\\python\\python38\\site-packages (from cycler>=0.10->matplotlib->matplotlib_venn) (1.15.0)\n",
      "Building wheels for collected packages: matplotlib-venn\n",
      "  Building wheel for matplotlib-venn (setup.py): started\n",
      "  Building wheel for matplotlib-venn (setup.py): finished with status 'done'\n",
      "  Created wheel for matplotlib-venn: filename=matplotlib_venn-0.11.6-py3-none-any.whl size=32067 sha256=9e84250fd1060c1b679377a2ea14c3e5bda2ef29d20e9c391e41ab68d06ec76b\n",
      "  Stored in directory: c:\\users\\horifox\\appdata\\local\\pip\\cache\\wheels\\82\\e4\\64\\dd790d424818bc2f59c11471a1eee5dc8cfcd3f8ee8c4812fa\n",
      "Successfully built matplotlib-venn\n",
      "Installing collected packages: matplotlib-venn\n",
      "Successfully installed matplotlib-venn-0.11.6\n"
     ]
    }
   ],
   "source": [
    "!pip install matplotlib_venn"
   ]
  },
  {
   "cell_type": "code",
   "execution_count": 119,
   "metadata": {},
   "outputs": [],
   "source": [
    "import numpy as np\n",
    "import pandas as pd\n",
    "from typing import Dict, Tuple\n",
    "from scipy import stats\n",
    "from sklearn.feature_extraction.text import CountVectorizer, TfidfVectorizer\n",
    "from sklearn.neighbors import KNeighborsRegressor, KNeighborsClassifier\n",
    "from sklearn.model_selection import GridSearchCV, RandomizedSearchCV\n",
    "from sklearn.metrics import confusion_matrix\n",
    "from sklearn.metrics.pairwise import cosine_similarity, euclidean_distances, manhattan_distances\n",
    "from surprise import SVD, Dataset, Reader\n",
    "import seaborn as sns\n",
    "import matplotlib.pyplot as plt\n",
    "from matplotlib_venn import venn2\n",
    "%matplotlib inline \n",
    "sns.set(style=\"ticks\")\n",
    "\n",
    "import warnings\n",
    "warnings.filterwarnings('ignore')"
   ]
  },
  {
   "cell_type": "code",
   "execution_count": 121,
   "metadata": {},
   "outputs": [
    {
     "name": "stderr",
     "output_type": "stream",
     "text": [
      "b'Skipping line 6452: expected 8 fields, saw 9\\nSkipping line 43667: expected 8 fields, saw 10\\nSkipping line 51751: expected 8 fields, saw 9\\n'\n",
      "b'Skipping line 92038: expected 8 fields, saw 9\\nSkipping line 104319: expected 8 fields, saw 9\\nSkipping line 121768: expected 8 fields, saw 9\\n'\n",
      "b'Skipping line 144058: expected 8 fields, saw 9\\nSkipping line 150789: expected 8 fields, saw 9\\nSkipping line 157128: expected 8 fields, saw 9\\nSkipping line 180189: expected 8 fields, saw 9\\nSkipping line 185738: expected 8 fields, saw 9\\n'\n",
      "b'Skipping line 209388: expected 8 fields, saw 9\\nSkipping line 220626: expected 8 fields, saw 9\\nSkipping line 227933: expected 8 fields, saw 11\\nSkipping line 228957: expected 8 fields, saw 10\\nSkipping line 245933: expected 8 fields, saw 9\\nSkipping line 251296: expected 8 fields, saw 9\\nSkipping line 259941: expected 8 fields, saw 9\\nSkipping line 261529: expected 8 fields, saw 9\\n'\n"
     ]
    }
   ],
   "source": [
    "ratings = pd.read_csv('BX-Book-Ratings.csv', \n",
    "                    error_bad_lines=False, delimiter=';', \n",
    "                    encoding = 'ISO-8859-1')\n",
    "\n",
    "users = pd.read_csv('BX-Users.csv', \n",
    "                    error_bad_lines=False, delimiter=';', \n",
    "                    encoding = 'ISO-8859-1')\n",
    "\n",
    "books = pd.read_csv('BX-Books.csv', \n",
    "                    error_bad_lines=False, delimiter=';', \n",
    "                    encoding = 'ISO-8859-1')\n",
    "\n",
    "data = pd.merge(ratings, users, on='User-ID', how='inner')\n",
    "data = pd.merge(data, books, on='ISBN', how='inner')"
   ]
  },
  {
   "cell_type": "code",
   "execution_count": 122,
   "metadata": {},
   "outputs": [
    {
     "data": {
      "text/plain": [
       "(1031136, 12)"
      ]
     },
     "execution_count": 122,
     "metadata": {},
     "output_type": "execute_result"
    }
   ],
   "source": [
    "data.shape"
   ]
  },
  {
   "cell_type": "code",
   "execution_count": 123,
   "metadata": {},
   "outputs": [
    {
     "data": {
      "text/html": [
       "<div>\n",
       "<style scoped>\n",
       "    .dataframe tbody tr th:only-of-type {\n",
       "        vertical-align: middle;\n",
       "    }\n",
       "\n",
       "    .dataframe tbody tr th {\n",
       "        vertical-align: top;\n",
       "    }\n",
       "\n",
       "    .dataframe thead th {\n",
       "        text-align: right;\n",
       "    }\n",
       "</style>\n",
       "<table border=\"1\" class=\"dataframe\">\n",
       "  <thead>\n",
       "    <tr style=\"text-align: right;\">\n",
       "      <th></th>\n",
       "      <th>User-ID</th>\n",
       "      <th>ISBN</th>\n",
       "      <th>Book-Rating</th>\n",
       "      <th>Location</th>\n",
       "      <th>Age</th>\n",
       "      <th>Book-Title</th>\n",
       "      <th>Book-Author</th>\n",
       "      <th>Year-Of-Publication</th>\n",
       "      <th>Publisher</th>\n",
       "      <th>Image-URL-S</th>\n",
       "      <th>Image-URL-M</th>\n",
       "      <th>Image-URL-L</th>\n",
       "    </tr>\n",
       "  </thead>\n",
       "  <tbody>\n",
       "    <tr>\n",
       "      <th>0</th>\n",
       "      <td>276725</td>\n",
       "      <td>034545104X</td>\n",
       "      <td>0</td>\n",
       "      <td>tyler, texas, usa</td>\n",
       "      <td>NaN</td>\n",
       "      <td>Flesh Tones: A Novel</td>\n",
       "      <td>M. J. Rose</td>\n",
       "      <td>2002</td>\n",
       "      <td>Ballantine Books</td>\n",
       "      <td>http://images.amazon.com/images/P/034545104X.0...</td>\n",
       "      <td>http://images.amazon.com/images/P/034545104X.0...</td>\n",
       "      <td>http://images.amazon.com/images/P/034545104X.0...</td>\n",
       "    </tr>\n",
       "    <tr>\n",
       "      <th>1</th>\n",
       "      <td>2313</td>\n",
       "      <td>034545104X</td>\n",
       "      <td>5</td>\n",
       "      <td>cincinnati, ohio, usa</td>\n",
       "      <td>23.0</td>\n",
       "      <td>Flesh Tones: A Novel</td>\n",
       "      <td>M. J. Rose</td>\n",
       "      <td>2002</td>\n",
       "      <td>Ballantine Books</td>\n",
       "      <td>http://images.amazon.com/images/P/034545104X.0...</td>\n",
       "      <td>http://images.amazon.com/images/P/034545104X.0...</td>\n",
       "      <td>http://images.amazon.com/images/P/034545104X.0...</td>\n",
       "    </tr>\n",
       "    <tr>\n",
       "      <th>2</th>\n",
       "      <td>6543</td>\n",
       "      <td>034545104X</td>\n",
       "      <td>0</td>\n",
       "      <td>strafford, missouri, usa</td>\n",
       "      <td>34.0</td>\n",
       "      <td>Flesh Tones: A Novel</td>\n",
       "      <td>M. J. Rose</td>\n",
       "      <td>2002</td>\n",
       "      <td>Ballantine Books</td>\n",
       "      <td>http://images.amazon.com/images/P/034545104X.0...</td>\n",
       "      <td>http://images.amazon.com/images/P/034545104X.0...</td>\n",
       "      <td>http://images.amazon.com/images/P/034545104X.0...</td>\n",
       "    </tr>\n",
       "    <tr>\n",
       "      <th>3</th>\n",
       "      <td>8680</td>\n",
       "      <td>034545104X</td>\n",
       "      <td>5</td>\n",
       "      <td>st. charles county, missouri, usa</td>\n",
       "      <td>2.0</td>\n",
       "      <td>Flesh Tones: A Novel</td>\n",
       "      <td>M. J. Rose</td>\n",
       "      <td>2002</td>\n",
       "      <td>Ballantine Books</td>\n",
       "      <td>http://images.amazon.com/images/P/034545104X.0...</td>\n",
       "      <td>http://images.amazon.com/images/P/034545104X.0...</td>\n",
       "      <td>http://images.amazon.com/images/P/034545104X.0...</td>\n",
       "    </tr>\n",
       "    <tr>\n",
       "      <th>4</th>\n",
       "      <td>10314</td>\n",
       "      <td>034545104X</td>\n",
       "      <td>9</td>\n",
       "      <td>beaverton, oregon, usa</td>\n",
       "      <td>NaN</td>\n",
       "      <td>Flesh Tones: A Novel</td>\n",
       "      <td>M. J. Rose</td>\n",
       "      <td>2002</td>\n",
       "      <td>Ballantine Books</td>\n",
       "      <td>http://images.amazon.com/images/P/034545104X.0...</td>\n",
       "      <td>http://images.amazon.com/images/P/034545104X.0...</td>\n",
       "      <td>http://images.amazon.com/images/P/034545104X.0...</td>\n",
       "    </tr>\n",
       "  </tbody>\n",
       "</table>\n",
       "</div>"
      ],
      "text/plain": [
       "   User-ID        ISBN  Book-Rating                           Location   Age  \\\n",
       "0   276725  034545104X            0                  tyler, texas, usa   NaN   \n",
       "1     2313  034545104X            5              cincinnati, ohio, usa  23.0   \n",
       "2     6543  034545104X            0           strafford, missouri, usa  34.0   \n",
       "3     8680  034545104X            5  st. charles county, missouri, usa   2.0   \n",
       "4    10314  034545104X            9             beaverton, oregon, usa   NaN   \n",
       "\n",
       "             Book-Title Book-Author Year-Of-Publication         Publisher  \\\n",
       "0  Flesh Tones: A Novel  M. J. Rose                2002  Ballantine Books   \n",
       "1  Flesh Tones: A Novel  M. J. Rose                2002  Ballantine Books   \n",
       "2  Flesh Tones: A Novel  M. J. Rose                2002  Ballantine Books   \n",
       "3  Flesh Tones: A Novel  M. J. Rose                2002  Ballantine Books   \n",
       "4  Flesh Tones: A Novel  M. J. Rose                2002  Ballantine Books   \n",
       "\n",
       "                                         Image-URL-S  \\\n",
       "0  http://images.amazon.com/images/P/034545104X.0...   \n",
       "1  http://images.amazon.com/images/P/034545104X.0...   \n",
       "2  http://images.amazon.com/images/P/034545104X.0...   \n",
       "3  http://images.amazon.com/images/P/034545104X.0...   \n",
       "4  http://images.amazon.com/images/P/034545104X.0...   \n",
       "\n",
       "                                         Image-URL-M  \\\n",
       "0  http://images.amazon.com/images/P/034545104X.0...   \n",
       "1  http://images.amazon.com/images/P/034545104X.0...   \n",
       "2  http://images.amazon.com/images/P/034545104X.0...   \n",
       "3  http://images.amazon.com/images/P/034545104X.0...   \n",
       "4  http://images.amazon.com/images/P/034545104X.0...   \n",
       "\n",
       "                                         Image-URL-L  \n",
       "0  http://images.amazon.com/images/P/034545104X.0...  \n",
       "1  http://images.amazon.com/images/P/034545104X.0...  \n",
       "2  http://images.amazon.com/images/P/034545104X.0...  \n",
       "3  http://images.amazon.com/images/P/034545104X.0...  \n",
       "4  http://images.amazon.com/images/P/034545104X.0...  "
      ]
     },
     "execution_count": 123,
     "metadata": {},
     "output_type": "execute_result"
    }
   ],
   "source": [
    "data.head()"
   ]
  },
  {
   "cell_type": "code",
   "execution_count": 124,
   "metadata": {},
   "outputs": [
    {
     "data": {
      "text/plain": [
       "User-ID                     0\n",
       "ISBN                        0\n",
       "Book-Rating                 0\n",
       "Location                    0\n",
       "Age                    277835\n",
       "Book-Title                  0\n",
       "Book-Author                 1\n",
       "Year-Of-Publication         0\n",
       "Publisher                   2\n",
       "Image-URL-S                 0\n",
       "Image-URL-M                 0\n",
       "Image-URL-L                 4\n",
       "dtype: int64"
      ]
     },
     "execution_count": 124,
     "metadata": {},
     "output_type": "execute_result"
    }
   ],
   "source": [
    "data.isnull().sum()"
   ]
  },
  {
   "cell_type": "code",
   "execution_count": 135,
   "metadata": {},
   "outputs": [],
   "source": [
    "data = data.dropna(axis=0, how='any')\n",
    "data = data.drop(['Image-URL-S', 'Image-URL-M', 'Image-URL-L'], axis=1)"
   ]
  },
  {
   "cell_type": "code",
   "execution_count": 136,
   "metadata": {},
   "outputs": [
    {
     "data": {
      "text/plain": [
       "User-ID                0\n",
       "ISBN                   0\n",
       "Book-Rating            0\n",
       "Location               0\n",
       "Age                    0\n",
       "Book-Title             0\n",
       "Book-Author            0\n",
       "Year-Of-Publication    0\n",
       "Publisher              0\n",
       "dtype: int64"
      ]
     },
     "execution_count": 136,
     "metadata": {},
     "output_type": "execute_result"
    }
   ],
   "source": [
    "data.isnull().sum()"
   ]
  },
  {
   "cell_type": "code",
   "execution_count": 137,
   "metadata": {},
   "outputs": [],
   "source": [
    "title = data['Book-Title'].values\n",
    "author = data['Book-Author'].values\n",
    "publisher = data['Publisher'].values\n",
    "ISBN = data['ISBN'].values\n",
    "rating = data['Book-Rating'].values"
   ]
  },
  {
   "cell_type": "code",
   "execution_count": 138,
   "metadata": {},
   "outputs": [
    {
     "name": "stdout",
     "output_type": "stream",
     "text": [
      "Wall time: 20.4 s\n"
     ]
    }
   ],
   "source": [
    "%%time\n",
    "tfidfv = TfidfVectorizer()\n",
    "title_matrix = tfidfv.fit_transform(title)\n",
    "author_matrix = tfidfv.fit_transform(author)\n",
    "publisher_matrix = tfidfv.fit_transform(publisher)\n",
    "ISBN_matrix = tfidfv.fit_transform(ISBN)"
   ]
  },
  {
   "cell_type": "code",
   "execution_count": 144,
   "metadata": {},
   "outputs": [
    {
     "name": "stdout",
     "output_type": "stream",
     "text": [
      "  (0, 8)\t0.7071067811865476\n",
      "  (0, 55)\t0.7071067811865476\n"
     ]
    }
   ],
   "source": [
    "print(matrix[1])"
   ]
  },
  {
   "cell_type": "code",
   "execution_count": 151,
   "metadata": {},
   "outputs": [],
   "source": [
    "# класс для формирования рекомендаций на основе метода ближайших соседей\n",
    "class SimpleKNNRecommender:\n",
    "    \n",
    "    def __init__(self, X_matrix, X_1, X_2, X_3):\n",
    "        \"\"\"\n",
    "        Входные параметры:\n",
    "        X_matrix - обучающая выборка (матрица объект-признак)\n",
    "        \"\"\"\n",
    "        #Сохраняем параметры в переменных объекта\n",
    "        self._X_matrix = X_matrix\n",
    "        self.df = pd.DataFrame(\n",
    "            {'title': pd.Series(X_1, dtype='str'),\n",
    "            'author': pd.Series(X_2, dtype='str'),\n",
    "            'publisher': pd.Series(X_3, dtype='str'),\n",
    "            'dist': pd.Series([], dtype='float')})\n",
    "            \n",
    "            \n",
    "    def recommend_for_single_object(self, K: int, \\\n",
    "                X_matrix_object, cos_flag = True, manh_flag = False):\n",
    "        \"\"\"\n",
    "        Метод формирования рекомендаций для одного объекта.\n",
    "        Входные параметры:\n",
    "        K - количество рекомендуемых соседей \n",
    "        X_matrix_object - строка матрицы объект-признак, соответствующая объекту\n",
    "        cos_flag - флаг вычисления косинусного расстояния\n",
    "        manh_flag - флаг вычисления манхэттэнского расстояния\n",
    "        Возвращаемое значение: K найденных соседей\n",
    "        \"\"\"\n",
    "        \n",
    "        scale = 1000000\n",
    "        # Вычисляем косинусную близость\n",
    "        if cos_flag:\n",
    "            dist = cosine_similarity(self._X_matrix, X_matrix_object)\n",
    "            self.df['dist'] = dist * scale\n",
    "            res = self.df.sort_values(by='dist', ascending=False)\n",
    "            # Не учитываем рекомендации с единичным расстоянием,\n",
    "            # так как это искомый объект\n",
    "            res = res[res['dist'] < scale]\n",
    "        \n",
    "        else:\n",
    "            if manh_flag:\n",
    "                dist = manhattan_distances(self._X_matrix, X_matrix_object)\n",
    "            else:\n",
    "                dist = euclidean_distances(self._X_matrix, X_matrix_object)\n",
    "            self.df['dist'] = dist * scale\n",
    "            res = self.df.sort_values(by='dist', ascending=True)\n",
    "            # Не учитываем рекомендации с единичным расстоянием,\n",
    "            # так как это искомый объект\n",
    "            res = res[res['dist'] > 0.0]            \n",
    "        \n",
    "        # Оставляем К первых рекомендаций\n",
    "        res = res.head(K)\n",
    "        return res"
   ]
  },
  {
   "cell_type": "code",
   "execution_count": 154,
   "metadata": {},
   "outputs": [
    {
     "data": {
      "text/html": [
       "<div>\n",
       "<style scoped>\n",
       "    .dataframe tbody tr th:only-of-type {\n",
       "        vertical-align: middle;\n",
       "    }\n",
       "\n",
       "    .dataframe tbody tr th {\n",
       "        vertical-align: top;\n",
       "    }\n",
       "\n",
       "    .dataframe thead th {\n",
       "        text-align: right;\n",
       "    }\n",
       "</style>\n",
       "<table border=\"1\" class=\"dataframe\">\n",
       "  <thead>\n",
       "    <tr style=\"text-align: right;\">\n",
       "      <th></th>\n",
       "      <th>title</th>\n",
       "      <th>author</th>\n",
       "      <th>publisher</th>\n",
       "      <th>dist</th>\n",
       "    </tr>\n",
       "  </thead>\n",
       "  <tbody>\n",
       "    <tr>\n",
       "      <th>645492</th>\n",
       "      <td>Goodbye, Good Men: How Liberals Brought Corrup...</td>\n",
       "      <td>Michael S. Rose</td>\n",
       "      <td>Regnery Publishing</td>\n",
       "      <td>846787.929526</td>\n",
       "    </tr>\n",
       "    <tr>\n",
       "      <th>722597</th>\n",
       "      <td>Regions of the Heart : The Triumph and Tragedy...</td>\n",
       "      <td>David Rose</td>\n",
       "      <td>National Geographic</td>\n",
       "      <td>841000.601267</td>\n",
       "    </tr>\n",
       "    <tr>\n",
       "      <th>626596</th>\n",
       "      <td>Thief of Olympus</td>\n",
       "      <td>Elizabeth Rose</td>\n",
       "      <td>Wigwam Publishing Co.</td>\n",
       "      <td>819570.484541</td>\n",
       "    </tr>\n",
       "    <tr>\n",
       "      <th>590247</th>\n",
       "      <td>Freeing the Whales: How the Media Created the ...</td>\n",
       "      <td>Tom Rose</td>\n",
       "      <td>Carol Publishing Corporation</td>\n",
       "      <td>807830.167057</td>\n",
       "    </tr>\n",
       "    <tr>\n",
       "      <th>696252</th>\n",
       "      <td>101 Ways to Date Your Mate</td>\n",
       "      <td>Rose Smith</td>\n",
       "      <td>William Havens Publishing Company</td>\n",
       "      <td>800360.034775</td>\n",
       "    </tr>\n",
       "  </tbody>\n",
       "</table>\n",
       "</div>"
      ],
      "text/plain": [
       "                                                    title           author  \\\n",
       "645492  Goodbye, Good Men: How Liberals Brought Corrup...  Michael S. Rose   \n",
       "722597  Regions of the Heart : The Triumph and Tragedy...       David Rose   \n",
       "626596                                   Thief of Olympus   Elizabeth Rose   \n",
       "590247  Freeing the Whales: How the Media Created the ...         Tom Rose   \n",
       "696252                         101 Ways to Date Your Mate       Rose Smith   \n",
       "\n",
       "                                publisher           dist  \n",
       "645492                 Regnery Publishing  846787.929526  \n",
       "722597                National Geographic  841000.601267  \n",
       "626596              Wigwam Publishing Co.  819570.484541  \n",
       "590247       Carol Publishing Corporation  807830.167057  \n",
       "696252  William Havens Publishing Company  800360.034775  "
      ]
     },
     "execution_count": 154,
     "metadata": {},
     "output_type": "execute_result"
    }
   ],
   "source": [
    "sparks_matrix = author_matrix[0]\n",
    "skr1 = SimpleKNNRecommender(author_matrix, title, author, publisher)\n",
    "rec1 = skr1.recommend_for_single_object(5, sparks_matrix)\n",
    "rec1"
   ]
  },
  {
   "cell_type": "code",
   "execution_count": 157,
   "metadata": {},
   "outputs": [
    {
     "data": {
      "text/html": [
       "<div>\n",
       "<style scoped>\n",
       "    .dataframe tbody tr th:only-of-type {\n",
       "        vertical-align: middle;\n",
       "    }\n",
       "\n",
       "    .dataframe tbody tr th {\n",
       "        vertical-align: top;\n",
       "    }\n",
       "\n",
       "    .dataframe thead th {\n",
       "        text-align: right;\n",
       "    }\n",
       "</style>\n",
       "<table border=\"1\" class=\"dataframe\">\n",
       "  <thead>\n",
       "    <tr style=\"text-align: right;\">\n",
       "      <th></th>\n",
       "      <th>title</th>\n",
       "      <th>author</th>\n",
       "      <th>publisher</th>\n",
       "      <th>dist</th>\n",
       "    </tr>\n",
       "  </thead>\n",
       "  <tbody>\n",
       "    <tr>\n",
       "      <th>645492</th>\n",
       "      <td>Goodbye, Good Men: How Liberals Brought Corrup...</td>\n",
       "      <td>Michael S. Rose</td>\n",
       "      <td>Regnery Publishing</td>\n",
       "      <td>553555.905892</td>\n",
       "    </tr>\n",
       "    <tr>\n",
       "      <th>722597</th>\n",
       "      <td>Regions of the Heart : The Triumph and Tragedy...</td>\n",
       "      <td>David Rose</td>\n",
       "      <td>National Geographic</td>\n",
       "      <td>563913.820957</td>\n",
       "    </tr>\n",
       "    <tr>\n",
       "      <th>626596</th>\n",
       "      <td>Thief of Olympus</td>\n",
       "      <td>Elizabeth Rose</td>\n",
       "      <td>Wigwam Publishing Co.</td>\n",
       "      <td>600715.432562</td>\n",
       "    </tr>\n",
       "    <tr>\n",
       "      <th>590247</th>\n",
       "      <td>Freeing the Whales: How the Media Created the ...</td>\n",
       "      <td>Tom Rose</td>\n",
       "      <td>Carol Publishing Corporation</td>\n",
       "      <td>619951.341547</td>\n",
       "    </tr>\n",
       "    <tr>\n",
       "      <th>696252</th>\n",
       "      <td>101 Ways to Date Your Mate</td>\n",
       "      <td>Rose Smith</td>\n",
       "      <td>William Havens Publishing Company</td>\n",
       "      <td>631886.010646</td>\n",
       "    </tr>\n",
       "  </tbody>\n",
       "</table>\n",
       "</div>"
      ],
      "text/plain": [
       "                                                    title           author  \\\n",
       "645492  Goodbye, Good Men: How Liberals Brought Corrup...  Michael S. Rose   \n",
       "722597  Regions of the Heart : The Triumph and Tragedy...       David Rose   \n",
       "626596                                   Thief of Olympus   Elizabeth Rose   \n",
       "590247  Freeing the Whales: How the Media Created the ...         Tom Rose   \n",
       "696252                         101 Ways to Date Your Mate       Rose Smith   \n",
       "\n",
       "                                publisher           dist  \n",
       "645492                 Regnery Publishing  553555.905892  \n",
       "722597                National Geographic  563913.820957  \n",
       "626596              Wigwam Publishing Co.  600715.432562  \n",
       "590247       Carol Publishing Corporation  619951.341547  \n",
       "696252  William Havens Publishing Company  631886.010646  "
      ]
     },
     "execution_count": 157,
     "metadata": {},
     "output_type": "execute_result"
    }
   ],
   "source": [
    "# При поиске с помощью Евклидова расстояния \n",
    "rec2 = skr1.recommend_for_single_object(5, sparks_matrix, cos_flag = False)\n",
    "rec2"
   ]
  },
  {
   "cell_type": "code",
   "execution_count": 158,
   "metadata": {},
   "outputs": [
    {
     "data": {
      "text/html": [
       "<div>\n",
       "<style scoped>\n",
       "    .dataframe tbody tr th:only-of-type {\n",
       "        vertical-align: middle;\n",
       "    }\n",
       "\n",
       "    .dataframe tbody tr th {\n",
       "        vertical-align: top;\n",
       "    }\n",
       "\n",
       "    .dataframe thead th {\n",
       "        text-align: right;\n",
       "    }\n",
       "</style>\n",
       "<table border=\"1\" class=\"dataframe\">\n",
       "  <thead>\n",
       "    <tr style=\"text-align: right;\">\n",
       "      <th></th>\n",
       "      <th>title</th>\n",
       "      <th>author</th>\n",
       "      <th>publisher</th>\n",
       "      <th>dist</th>\n",
       "    </tr>\n",
       "  </thead>\n",
       "  <tbody>\n",
       "    <tr>\n",
       "      <th>645492</th>\n",
       "      <td>Goodbye, Good Men: How Liberals Brought Corrup...</td>\n",
       "      <td>Michael S. Rose</td>\n",
       "      <td>Regnery Publishing</td>\n",
       "      <td>685142.707313</td>\n",
       "    </tr>\n",
       "    <tr>\n",
       "      <th>722597</th>\n",
       "      <td>Regions of the Heart : The Triumph and Tragedy...</td>\n",
       "      <td>David Rose</td>\n",
       "      <td>National Geographic</td>\n",
       "      <td>700033.583114</td>\n",
       "    </tr>\n",
       "    <tr>\n",
       "      <th>626596</th>\n",
       "      <td>Thief of Olympus</td>\n",
       "      <td>Elizabeth Rose</td>\n",
       "      <td>Wigwam Publishing Co.</td>\n",
       "      <td>753407.892773</td>\n",
       "    </tr>\n",
       "    <tr>\n",
       "      <th>590247</th>\n",
       "      <td>Freeing the Whales: How the Media Created the ...</td>\n",
       "      <td>Tom Rose</td>\n",
       "      <td>Carol Publishing Corporation</td>\n",
       "      <td>781585.154420</td>\n",
       "    </tr>\n",
       "    <tr>\n",
       "      <th>696252</th>\n",
       "      <td>101 Ways to Date Your Mate</td>\n",
       "      <td>Rose Smith</td>\n",
       "      <td>William Havens Publishing Company</td>\n",
       "      <td>799159.618560</td>\n",
       "    </tr>\n",
       "  </tbody>\n",
       "</table>\n",
       "</div>"
      ],
      "text/plain": [
       "                                                    title           author  \\\n",
       "645492  Goodbye, Good Men: How Liberals Brought Corrup...  Michael S. Rose   \n",
       "722597  Regions of the Heart : The Triumph and Tragedy...       David Rose   \n",
       "626596                                   Thief of Olympus   Elizabeth Rose   \n",
       "590247  Freeing the Whales: How the Media Created the ...         Tom Rose   \n",
       "696252                         101 Ways to Date Your Mate       Rose Smith   \n",
       "\n",
       "                                publisher           dist  \n",
       "645492                 Regnery Publishing  685142.707313  \n",
       "722597                National Geographic  700033.583114  \n",
       "626596              Wigwam Publishing Co.  753407.892773  \n",
       "590247       Carol Publishing Corporation  781585.154420  \n",
       "696252  William Havens Publishing Company  799159.618560  "
      ]
     },
     "execution_count": 158,
     "metadata": {},
     "output_type": "execute_result"
    }
   ],
   "source": [
    "# Манхэттэнское расстояние\n",
    "rec3 = skr1.recommend_for_single_object(5, sparks_matrix, cos_flag = False, manh_flag = True)\n",
    "rec3"
   ]
  },
  {
   "cell_type": "code",
   "execution_count": null,
   "metadata": {},
   "outputs": [],
   "source": []
  }
 ],
 "metadata": {
  "kernelspec": {
   "display_name": "Python 3",
   "language": "python",
   "name": "python3"
  },
  "language_info": {
   "codemirror_mode": {
    "name": "ipython",
    "version": 3
   },
   "file_extension": ".py",
   "mimetype": "text/x-python",
   "name": "python",
   "nbconvert_exporter": "python",
   "pygments_lexer": "ipython3",
   "version": "3.8.3"
  }
 },
 "nbformat": 4,
 "nbformat_minor": 4
}
