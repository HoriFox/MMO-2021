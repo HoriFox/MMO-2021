{
 "cells": [
  {
   "cell_type": "code",
   "execution_count": 1,
   "metadata": {},
   "outputs": [
    {
     "name": "stdout",
     "output_type": "stream",
     "text": [
      "Collecting tensorflow==2.2\n",
      "  Downloading tensorflow-2.2.0-cp38-cp38-win_amd64.whl (459.2 MB)\n",
      "Collecting opt-einsum>=2.3.2\n",
      "  Using cached opt_einsum-3.3.0-py3-none-any.whl (65 kB)\n",
      "Requirement already satisfied: h5py<2.11.0,>=2.10.0 in c:\\users\\horifox\\anaconda3\\lib\\site-packages (from tensorflow==2.2) (2.10.0)"
     ]
    },
    {
     "name": "stderr",
     "output_type": "stream",
     "text": [
      "ERROR: Could not install packages due to an EnvironmentError: [WinError 5] Отказано в доступе: 'C:\\\\Users\\\\HoriFox\\\\anaconda3\\\\Lib\\\\site-packages\\\\~cipy\\\\cluster\\\\_hierarchy.cp38-win_amd64.pyd'\n",
      "Consider using the `--user` option or check the permissions.\n",
      "\n"
     ]
    },
    {
     "name": "stdout",
     "output_type": "stream",
     "text": [
      "\n",
      "Collecting scipy==1.4.1; python_version >= \"3\"\n",
      "  Downloading scipy-1.4.1-cp38-cp38-win_amd64.whl (31.0 MB)\n",
      "Processing c:\\users\\horifox\\appdata\\local\\pip\\cache\\wheels\\a0\\16\\9c\\5473df82468f958445479c59e784896fa24f4a5fc024b0f501\\termcolor-1.1.0-py3-none-any.whl\n",
      "Collecting keras-preprocessing>=1.1.0\n",
      "  Using cached Keras_Preprocessing-1.1.2-py2.py3-none-any.whl (42 kB)\n",
      "Collecting protobuf>=3.8.0\n",
      "  Using cached protobuf-3.17.3-py2.py3-none-any.whl (173 kB)\n",
      "Requirement already satisfied: wrapt>=1.11.1 in c:\\users\\horifox\\appdata\\roaming\\python\\python38\\site-packages (from tensorflow==2.2) (1.12.1)\n",
      "Collecting google-pasta>=0.1.8\n",
      "  Using cached google_pasta-0.2.0-py3-none-any.whl (57 kB)\n",
      "Requirement already satisfied: absl-py>=0.7.0 in c:\\users\\horifox\\anaconda3\\lib\\site-packages (from tensorflow==2.2) (0.13.0)\n",
      "Requirement already satisfied: grpcio>=1.8.6 in c:\\users\\horifox\\anaconda3\\lib\\site-packages (from tensorflow==2.2) (1.34.1)\n",
      "Requirement already satisfied: wheel>=0.26; python_version >= \"3\" in c:\\users\\horifox\\anaconda3\\lib\\site-packages (from tensorflow==2.2) (0.36.2)\n",
      "Collecting gast==0.3.3\n",
      "  Downloading gast-0.3.3-py2.py3-none-any.whl (9.7 kB)\n",
      "Requirement already satisfied: six>=1.12.0 in c:\\users\\horifox\\appdata\\roaming\\python\\python38\\site-packages (from tensorflow==2.2) (1.15.0)\n",
      "Collecting astunparse==1.6.3\n",
      "  Using cached astunparse-1.6.3-py2.py3-none-any.whl (12 kB)\n",
      "Requirement already satisfied: numpy<2.0,>=1.16.0 in c:\\users\\horifox\\anaconda3\\lib\\site-packages (from tensorflow==2.2) (1.19.5)\n",
      "Collecting tensorboard<2.3.0,>=2.2.0\n",
      "  Downloading tensorboard-2.2.2-py3-none-any.whl (3.0 MB)\n",
      "Collecting tensorflow-estimator<2.3.0,>=2.2.0\n",
      "  Downloading tensorflow_estimator-2.2.0-py2.py3-none-any.whl (454 kB)\n",
      "Requirement already satisfied: google-auth<2,>=1.6.3 in c:\\users\\horifox\\anaconda3\\lib\\site-packages (from tensorboard<2.3.0,>=2.2.0->tensorflow==2.2) (1.31.0)\n",
      "Requirement already satisfied: requests<3,>=2.21.0 in c:\\users\\horifox\\anaconda3\\lib\\site-packages (from tensorboard<2.3.0,>=2.2.0->tensorflow==2.2) (2.24.0)\n",
      "Requirement already satisfied: tensorboard-plugin-wit>=1.6.0 in c:\\users\\horifox\\anaconda3\\lib\\site-packages (from tensorboard<2.3.0,>=2.2.0->tensorflow==2.2) (1.8.0)\n",
      "Requirement already satisfied: werkzeug>=0.11.15 in c:\\users\\horifox\\anaconda3\\lib\\site-packages (from tensorboard<2.3.0,>=2.2.0->tensorflow==2.2) (1.0.1)\n",
      "Requirement already satisfied: markdown>=2.6.8 in c:\\users\\horifox\\anaconda3\\lib\\site-packages (from tensorboard<2.3.0,>=2.2.0->tensorflow==2.2) (3.3.4)\n",
      "Requirement already satisfied: setuptools>=41.0.0 in c:\\users\\horifox\\anaconda3\\lib\\site-packages (from tensorboard<2.3.0,>=2.2.0->tensorflow==2.2) (49.2.0.post20200714)\n",
      "Requirement already satisfied: google-auth-oauthlib<0.5,>=0.4.1 in c:\\users\\horifox\\anaconda3\\lib\\site-packages (from tensorboard<2.3.0,>=2.2.0->tensorflow==2.2) (0.4.4)\n",
      "Requirement already satisfied: rsa<5,>=3.1.4; python_version >= \"3.6\" in c:\\users\\horifox\\anaconda3\\lib\\site-packages (from google-auth<2,>=1.6.3->tensorboard<2.3.0,>=2.2.0->tensorflow==2.2) (4.7.2)\n",
      "Requirement already satisfied: pyasn1-modules>=0.2.1 in c:\\users\\horifox\\anaconda3\\lib\\site-packages (from google-auth<2,>=1.6.3->tensorboard<2.3.0,>=2.2.0->tensorflow==2.2) (0.2.8)\n",
      "Requirement already satisfied: cachetools<5.0,>=2.0.0 in c:\\users\\horifox\\anaconda3\\lib\\site-packages (from google-auth<2,>=1.6.3->tensorboard<2.3.0,>=2.2.0->tensorflow==2.2) (4.2.2)\n",
      "Requirement already satisfied: idna<3,>=2.5 in c:\\users\\horifox\\anaconda3\\lib\\site-packages (from requests<3,>=2.21.0->tensorboard<2.3.0,>=2.2.0->tensorflow==2.2) (2.10)\n",
      "Requirement already satisfied: certifi>=2017.4.17 in c:\\users\\horifox\\anaconda3\\lib\\site-packages (from requests<3,>=2.21.0->tensorboard<2.3.0,>=2.2.0->tensorflow==2.2) (2020.6.20)\n",
      "Requirement already satisfied: urllib3!=1.25.0,!=1.25.1,<1.26,>=1.21.1 in c:\\users\\horifox\\anaconda3\\lib\\site-packages (from requests<3,>=2.21.0->tensorboard<2.3.0,>=2.2.0->tensorflow==2.2) (1.25.9)\n",
      "Requirement already satisfied: chardet<4,>=3.0.2 in c:\\users\\horifox\\anaconda3\\lib\\site-packages (from requests<3,>=2.21.0->tensorboard<2.3.0,>=2.2.0->tensorflow==2.2) (3.0.4)\n",
      "Requirement already satisfied: requests-oauthlib>=0.7.0 in c:\\users\\horifox\\anaconda3\\lib\\site-packages (from google-auth-oauthlib<0.5,>=0.4.1->tensorboard<2.3.0,>=2.2.0->tensorflow==2.2) (1.3.0)\n",
      "Requirement already satisfied: pyasn1>=0.1.3 in c:\\users\\horifox\\anaconda3\\lib\\site-packages (from rsa<5,>=3.1.4; python_version >= \"3.6\"->google-auth<2,>=1.6.3->tensorboard<2.3.0,>=2.2.0->tensorflow==2.2) (0.4.8)\n",
      "Requirement already satisfied: oauthlib>=3.0.0 in c:\\users\\horifox\\anaconda3\\lib\\site-packages (from requests-oauthlib>=0.7.0->google-auth-oauthlib<0.5,>=0.4.1->tensorboard<2.3.0,>=2.2.0->tensorflow==2.2) (3.1.1)\n",
      "Installing collected packages: opt-einsum, scipy, termcolor, keras-preprocessing, protobuf, google-pasta, gast, astunparse, tensorboard, tensorflow-estimator, tensorflow\n",
      "  Attempting uninstall: scipy\n",
      "    Found existing installation: scipy 1.5.0\n",
      "    Uninstalling scipy-1.5.0:\n",
      "      Successfully uninstalled scipy-1.5.0\n"
     ]
    }
   ],
   "source": [
    "!pip3 install tensorflow==2.2"
   ]
  },
  {
   "cell_type": "code",
   "execution_count": 3,
   "metadata": {},
   "outputs": [],
   "source": [
    "import numpy as np\n",
    "import pandas as pd\n",
    "import seaborn as sns\n",
    "import matplotlib.pyplot as plt\n",
    "from sklearn.impute import SimpleImputer\n",
    "from sklearn.impute import MissingIndicator\n",
    "from sklearn.impute import KNNImputer\n",
    "from sklearn.preprocessing import StandardScaler\n",
    "from sklearn.linear_model import Lasso\n",
    "from sklearn.pipeline import Pipeline\n",
    "from sklearn.model_selection import GridSearchCV\n",
    "from sklearn.ensemble import RandomForestRegressor\n",
    "from sklearn.experimental import enable_iterative_imputer\n",
    "from sklearn.impute import IterativeImputer\n",
    "from IPython.display import Image\n",
    "import scipy.stats as stats\n",
    "%matplotlib inline \n",
    "sns.set(style=\"ticks\")\n",
    "\n",
    "import warnings\n",
    "warnings.filterwarnings('ignore')"
   ]
  },
  {
   "cell_type": "code",
   "execution_count": 4,
   "metadata": {},
   "outputs": [],
   "source": [
    "data = pd.read_csv('car_ad2.csv' , encoding='latin-1')"
   ]
  },
  {
   "cell_type": "code",
   "execution_count": 7,
   "metadata": {},
   "outputs": [
    {
     "data": {
      "text/html": [
       "<div>\n",
       "<style scoped>\n",
       "    .dataframe tbody tr th:only-of-type {\n",
       "        vertical-align: middle;\n",
       "    }\n",
       "\n",
       "    .dataframe tbody tr th {\n",
       "        vertical-align: top;\n",
       "    }\n",
       "\n",
       "    .dataframe thead th {\n",
       "        text-align: right;\n",
       "    }\n",
       "</style>\n",
       "<table border=\"1\" class=\"dataframe\">\n",
       "  <thead>\n",
       "    <tr style=\"text-align: right;\">\n",
       "      <th></th>\n",
       "      <th>car</th>\n",
       "      <th>price</th>\n",
       "      <th>body</th>\n",
       "      <th>mileage</th>\n",
       "      <th>engV</th>\n",
       "      <th>engType</th>\n",
       "      <th>year</th>\n",
       "      <th>model</th>\n",
       "      <th>drive</th>\n",
       "      <th>price_log</th>\n",
       "      <th>engV_log</th>\n",
       "    </tr>\n",
       "  </thead>\n",
       "  <tbody>\n",
       "    <tr>\n",
       "      <th>0</th>\n",
       "      <td>Ford</td>\n",
       "      <td>15500.0</td>\n",
       "      <td>0</td>\n",
       "      <td>68</td>\n",
       "      <td>2.5</td>\n",
       "      <td>1</td>\n",
       "      <td>2010</td>\n",
       "      <td>Kuga</td>\n",
       "      <td>2</td>\n",
       "      <td>9.648595</td>\n",
       "      <td>0.916291</td>\n",
       "    </tr>\n",
       "    <tr>\n",
       "      <th>1</th>\n",
       "      <td>Mercedes-Benz</td>\n",
       "      <td>20500.0</td>\n",
       "      <td>3</td>\n",
       "      <td>173</td>\n",
       "      <td>1.8</td>\n",
       "      <td>1</td>\n",
       "      <td>2011</td>\n",
       "      <td>E-Class</td>\n",
       "      <td>3</td>\n",
       "      <td>9.928180</td>\n",
       "      <td>0.587787</td>\n",
       "    </tr>\n",
       "    <tr>\n",
       "      <th>2</th>\n",
       "      <td>Mercedes-Benz</td>\n",
       "      <td>35000.0</td>\n",
       "      <td>2</td>\n",
       "      <td>135</td>\n",
       "      <td>5.5</td>\n",
       "      <td>3</td>\n",
       "      <td>2008</td>\n",
       "      <td>CL 550</td>\n",
       "      <td>3</td>\n",
       "      <td>10.463103</td>\n",
       "      <td>1.704748</td>\n",
       "    </tr>\n",
       "    <tr>\n",
       "      <th>3</th>\n",
       "      <td>Mercedes-Benz</td>\n",
       "      <td>17800.0</td>\n",
       "      <td>5</td>\n",
       "      <td>162</td>\n",
       "      <td>1.8</td>\n",
       "      <td>0</td>\n",
       "      <td>2012</td>\n",
       "      <td>B 180</td>\n",
       "      <td>1</td>\n",
       "      <td>9.786954</td>\n",
       "      <td>0.587787</td>\n",
       "    </tr>\n",
       "    <tr>\n",
       "      <th>4</th>\n",
       "      <td>Nissan</td>\n",
       "      <td>16600.0</td>\n",
       "      <td>0</td>\n",
       "      <td>83</td>\n",
       "      <td>2.0</td>\n",
       "      <td>3</td>\n",
       "      <td>2013</td>\n",
       "      <td>X-Trail</td>\n",
       "      <td>2</td>\n",
       "      <td>9.717158</td>\n",
       "      <td>0.693147</td>\n",
       "    </tr>\n",
       "  </tbody>\n",
       "</table>\n",
       "</div>"
      ],
      "text/plain": [
       "             car    price  body  mileage  engV  engType  year    model  drive  \\\n",
       "0           Ford  15500.0     0       68   2.5        1  2010     Kuga      2   \n",
       "1  Mercedes-Benz  20500.0     3      173   1.8        1  2011  E-Class      3   \n",
       "2  Mercedes-Benz  35000.0     2      135   5.5        3  2008   CL 550      3   \n",
       "3  Mercedes-Benz  17800.0     5      162   1.8        0  2012    B 180      1   \n",
       "4         Nissan  16600.0     0       83   2.0        3  2013  X-Trail      2   \n",
       "\n",
       "   price_log  engV_log  \n",
       "0   9.648595  0.916291  \n",
       "1   9.928180  0.587787  \n",
       "2  10.463103  1.704748  \n",
       "3   9.786954  0.587787  \n",
       "4   9.717158  0.693147  "
      ]
     },
     "execution_count": 7,
     "metadata": {},
     "output_type": "execute_result"
    }
   ],
   "source": [
    "data.head()"
   ]
  },
  {
   "cell_type": "code",
   "execution_count": 8,
   "metadata": {},
   "outputs": [
    {
     "data": {
      "text/plain": [
       "(8820, 11)"
      ]
     },
     "execution_count": 8,
     "metadata": {},
     "output_type": "execute_result"
    }
   ],
   "source": [
    "data.shape"
   ]
  },
  {
   "cell_type": "code",
   "execution_count": 9,
   "metadata": {},
   "outputs": [
    {
     "data": {
      "text/plain": [
       "[('car', ('object', 0)),\n",
       " ('price', ('float64', 0)),\n",
       " ('body', ('int64', 0)),\n",
       " ('mileage', ('int64', 0)),\n",
       " ('engV', ('float64', 0)),\n",
       " ('engType', ('int64', 0)),\n",
       " ('year', ('int64', 0)),\n",
       " ('model', ('object', 0)),\n",
       " ('drive', ('int64', 0)),\n",
       " ('price_log', ('float64', 0)),\n",
       " ('engV_log', ('float64', 0))]"
      ]
     },
     "execution_count": 9,
     "metadata": {},
     "output_type": "execute_result"
    }
   ],
   "source": [
    "data_features = list(zip(\n",
    "# признаки\n",
    "[i for i in data.columns],\n",
    "zip(\n",
    "    # типы колонок\n",
    "    [str(i) for i in data.dtypes],\n",
    "    # проверим есть ли пропущенные значения\n",
    "    [i for i in data.isnull().sum()]\n",
    ")))\n",
    "# Признаки с типом данных и количеством пропусков\n",
    "data_features"
   ]
  },
  {
   "cell_type": "code",
   "execution_count": 10,
   "metadata": {},
   "outputs": [],
   "source": [
    "from sklearn.preprocessing import LabelEncoder"
   ]
  },
  {
   "cell_type": "code",
   "execution_count": 12,
   "metadata": {},
   "outputs": [],
   "source": [
    "data_encoded = data.copy()\n",
    "columns = ['car', 'model']\n",
    "for column in columns:\n",
    "    label_encoder = LabelEncoder()\n",
    "    data_encoded[column] = label_encoder.fit_transform(data_encoded[column])"
   ]
  },
  {
   "cell_type": "code",
   "execution_count": 14,
   "metadata": {},
   "outputs": [
    {
     "data": {
      "text/html": [
       "<div>\n",
       "<style scoped>\n",
       "    .dataframe tbody tr th:only-of-type {\n",
       "        vertical-align: middle;\n",
       "    }\n",
       "\n",
       "    .dataframe tbody tr th {\n",
       "        vertical-align: top;\n",
       "    }\n",
       "\n",
       "    .dataframe thead th {\n",
       "        text-align: right;\n",
       "    }\n",
       "</style>\n",
       "<table border=\"1\" class=\"dataframe\">\n",
       "  <thead>\n",
       "    <tr style=\"text-align: right;\">\n",
       "      <th></th>\n",
       "      <th>car</th>\n",
       "      <th>price</th>\n",
       "      <th>body</th>\n",
       "      <th>mileage</th>\n",
       "      <th>engV</th>\n",
       "      <th>engType</th>\n",
       "      <th>year</th>\n",
       "      <th>model</th>\n",
       "      <th>drive</th>\n",
       "      <th>price_log</th>\n",
       "      <th>engV_log</th>\n",
       "    </tr>\n",
       "  </thead>\n",
       "  <tbody>\n",
       "    <tr>\n",
       "      <th>0</th>\n",
       "      <td>23</td>\n",
       "      <td>15500.0</td>\n",
       "      <td>0</td>\n",
       "      <td>68</td>\n",
       "      <td>2.5</td>\n",
       "      <td>1</td>\n",
       "      <td>2010</td>\n",
       "      <td>473</td>\n",
       "      <td>2</td>\n",
       "      <td>9.648595</td>\n",
       "      <td>0.916291</td>\n",
       "    </tr>\n",
       "    <tr>\n",
       "      <th>1</th>\n",
       "      <td>50</td>\n",
       "      <td>20500.0</td>\n",
       "      <td>3</td>\n",
       "      <td>173</td>\n",
       "      <td>1.8</td>\n",
       "      <td>1</td>\n",
       "      <td>2011</td>\n",
       "      <td>320</td>\n",
       "      <td>3</td>\n",
       "      <td>9.928180</td>\n",
       "      <td>0.587787</td>\n",
       "    </tr>\n",
       "    <tr>\n",
       "      <th>2</th>\n",
       "      <td>50</td>\n",
       "      <td>35000.0</td>\n",
       "      <td>2</td>\n",
       "      <td>135</td>\n",
       "      <td>5.5</td>\n",
       "      <td>3</td>\n",
       "      <td>2008</td>\n",
       "      <td>228</td>\n",
       "      <td>3</td>\n",
       "      <td>10.463103</td>\n",
       "      <td>1.704748</td>\n",
       "    </tr>\n",
       "    <tr>\n",
       "      <th>3</th>\n",
       "      <td>50</td>\n",
       "      <td>17800.0</td>\n",
       "      <td>5</td>\n",
       "      <td>162</td>\n",
       "      <td>1.8</td>\n",
       "      <td>0</td>\n",
       "      <td>2012</td>\n",
       "      <td>197</td>\n",
       "      <td>1</td>\n",
       "      <td>9.786954</td>\n",
       "      <td>0.587787</td>\n",
       "    </tr>\n",
       "    <tr>\n",
       "      <th>4</th>\n",
       "      <td>55</td>\n",
       "      <td>16600.0</td>\n",
       "      <td>0</td>\n",
       "      <td>83</td>\n",
       "      <td>2.0</td>\n",
       "      <td>3</td>\n",
       "      <td>2013</td>\n",
       "      <td>820</td>\n",
       "      <td>2</td>\n",
       "      <td>9.717158</td>\n",
       "      <td>0.693147</td>\n",
       "    </tr>\n",
       "  </tbody>\n",
       "</table>\n",
       "</div>"
      ],
      "text/plain": [
       "   car    price  body  mileage  engV  engType  year  model  drive  price_log  \\\n",
       "0   23  15500.0     0       68   2.5        1  2010    473      2   9.648595   \n",
       "1   50  20500.0     3      173   1.8        1  2011    320      3   9.928180   \n",
       "2   50  35000.0     2      135   5.5        3  2008    228      3  10.463103   \n",
       "3   50  17800.0     5      162   1.8        0  2012    197      1   9.786954   \n",
       "4   55  16600.0     0       83   2.0        3  2013    820      2   9.717158   \n",
       "\n",
       "   engV_log  \n",
       "0  0.916291  \n",
       "1  0.587787  \n",
       "2  1.704748  \n",
       "3  0.587787  \n",
       "4  0.693147  "
      ]
     },
     "execution_count": 14,
     "metadata": {},
     "output_type": "execute_result"
    }
   ],
   "source": [
    "data_encoded.head()"
   ]
  },
  {
   "cell_type": "code",
   "execution_count": 20,
   "metadata": {},
   "outputs": [],
   "source": [
    "def arr_to_df(arr_scaled):\n",
    "    res = pd.DataFrame(arr_scaled, columns=data_encoded.columns)\n",
    "    return res"
   ]
  },
  {
   "cell_type": "code",
   "execution_count": 21,
   "metadata": {},
   "outputs": [
    {
     "data": {
      "text/plain": [
       "((7056, 11), (1764, 11), (7056,), (1764,))"
      ]
     },
     "execution_count": 21,
     "metadata": {},
     "output_type": "execute_result"
    }
   ],
   "source": [
    "from sklearn.model_selection import train_test_split\n",
    "# Разделим выборку на обучающую и тестовую\n",
    "X_train, X_test, y_train, y_test = train_test_split(data_encoded, data_encoded['body'],\n",
    "                                                    test_size=0.2,\n",
    "                                                    random_state=1)\n",
    "# Преобразуем массивы в DataFrame\n",
    "X_train_df = arr_to_df(X_train)\n",
    "X_test_df = arr_to_df(X_test)\n",
    "\n",
    "X_train_df.shape, X_test_df.shape, y_train.shape, y_test.shape"
   ]
  },
  {
   "cell_type": "code",
   "execution_count": 22,
   "metadata": {},
   "outputs": [],
   "source": [
    "class MetricLogger:\n",
    "    \n",
    "    def __init__(self):\n",
    "        self.df = pd.DataFrame(\n",
    "            {'metric': pd.Series([], dtype='str'),\n",
    "            'alg': pd.Series([], dtype='str'),\n",
    "            'value': pd.Series([], dtype='float')})\n",
    "\n",
    "    def add(self, metric, alg, value):\n",
    "        \"\"\"\n",
    "        Добавление значения\n",
    "        \"\"\"\n",
    "        # Удаление значения если оно уже было ранее добавлено\n",
    "        self.df.drop(self.df[(self.df['metric']==metric)&(self.df['alg']==alg)].index, inplace = True)\n",
    "        # Добавление нового значения\n",
    "        temp = [{'metric':metric, 'alg':alg, 'value':value}]\n",
    "        self.df = self.df.append(temp, ignore_index=True)\n",
    "\n",
    "    def get_data_for_metric(self, metric, ascending=True):\n",
    "        \"\"\"\n",
    "        Формирование данных с фильтром по метрике\n",
    "        \"\"\"\n",
    "        temp_data = self.df[self.df['metric']==metric]\n",
    "        temp_data_2 = temp_data.sort_values(by='value', ascending=ascending)\n",
    "        return temp_data_2['alg'].values, temp_data_2['value'].values\n",
    "    \n",
    "    def plot(self, str_header, metric, ascending=True, figsize=(5, 5)):\n",
    "        \"\"\"\n",
    "        Вывод графика\n",
    "        \"\"\"\n",
    "        array_labels, array_metric = self.get_data_for_metric(metric, ascending)\n",
    "        fig, ax1 = plt.subplots(figsize=figsize)\n",
    "        pos = np.arange(len(array_metric))\n",
    "        rects = ax1.barh(pos, array_metric,\n",
    "                         align='center',\n",
    "                         height=0.5, \n",
    "                         tick_label=array_labels)\n",
    "        ax1.set_title(str_header)\n",
    "        for a,b in zip(pos, array_metric):\n",
    "            plt.text(0.5, a-0.05, str(round(b,3)), color='white')\n",
    "        plt.show()"
   ]
  },
  {
   "cell_type": "code",
   "execution_count": 24,
   "metadata": {},
   "outputs": [],
   "source": [
    "from sklearn.linear_model import LinearRegression\n",
    "from sklearn.neighbors import KNeighborsRegressor\n",
    "from sklearn.tree import DecisionTreeRegressor\n",
    "from sklearn.ensemble import RandomForestRegressor\n",
    "from sklearn.ensemble import GradientBoostingRegressor\n",
    "from sklearn.svm import SVR\n",
    "from sklearn.metrics import mean_squared_error"
   ]
  },
  {
   "cell_type": "code",
   "execution_count": 51,
   "metadata": {},
   "outputs": [],
   "source": [
    "class_models_dict = {\n",
    "#                     'LinR': LinearRegression(), \n",
    "                    'SVR': SVR(),\n",
    "                    'KNN_5':KNeighborsRegressor(n_neighbors=5),\n",
    "#                     'Tree':DecisionTreeRegressor(random_state=1),\n",
    "#                     'GB': GradientBoostingRegressor(random_state=1),\n",
    "#                     'RF':RandomForestRegressor(n_estimators=50, random_state=1)\n",
    "}"
   ]
  },
  {
   "cell_type": "code",
   "execution_count": 47,
   "metadata": {},
   "outputs": [],
   "source": [
    "X_data_dict = {'Basic': (X_train_df, X_test_df)}"
   ]
  },
  {
   "cell_type": "code",
   "execution_count": 48,
   "metadata": {},
   "outputs": [],
   "source": [
    "def test_models(class_models_dict, X_train, X_test, y_train, y_test):\n",
    "    \n",
    "    logger = MetricLogger()\n",
    "    \n",
    "    for model_name, model in class_models_dict.items():\n",
    "        model.fit(X_train, y_train)\n",
    "        y_pred = model.predict(X_test)\n",
    "        mse = mean_squared_error(y_test, y_pred)\n",
    "        logger.add(model_name, 'Basic', mse)\n",
    "            \n",
    "    return logger"
   ]
  },
  {
   "cell_type": "code",
   "execution_count": 49,
   "metadata": {},
   "outputs": [],
   "source": [
    "logger = test_models(class_models_dict, X_train_df, X_test_df, y_train, y_test)"
   ]
  },
  {
   "cell_type": "code",
   "execution_count": 52,
   "metadata": {},
   "outputs": [
    {
     "data": {
      "image/png": "[encoded data removed]",
      "text/plain": [
       "<Figure size 504x432 with 1 Axes>"
      ]
     },
     "metadata": {},
     "output_type": "display_data"
    },
    {
     "data": {
      "image/png": "[encoded data removed]",
      "text/plain": [
       "<Figure size 504x432 with 1 Axes>"
      ]
     },
     "metadata": {},
     "output_type": "display_data"
    }
   ],
   "source": [
    "# Построим графики метрик качества модели\n",
    "for model in class_models_dict:\n",
    "    logger.plot('Модель: ' + model, model, figsize=(7, 6))"
   ]
  },
  {
   "cell_type": "code",
   "execution_count": null,
   "metadata": {},
   "outputs": [],
   "source": []
  }
 ],
 "metadata": {
  "kernelspec": {
   "display_name": "Python 3",
   "language": "python",
   "name": "python3"
  },
  "language_info": {
   "codemirror_mode": {
    "name": "ipython",
    "version": 3
   },
   "file_extension": ".py",
   "mimetype": "text/x-python",
   "name": "python",
   "nbconvert_exporter": "python",
   "pygments_lexer": "ipython3",
   "version": "3.8.3"
  }
 },
 "nbformat": 4,
 "nbformat_minor": 4
}
