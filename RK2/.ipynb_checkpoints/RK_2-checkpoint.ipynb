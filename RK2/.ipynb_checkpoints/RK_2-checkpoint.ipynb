{
 "cells": [
  {
   "cell_type": "markdown",
   "metadata": {},
   "source": [
    "## Рубежный контроль № 2\n",
    "\n",
    "***\n",
    "### Тема: Методы обработки текстов  \n",
    "***\n",
    "### Студент и вариант:\n",
    "**Студент ИУ5-21М Ханмурзин Тагир**  \n",
    "**Вариант №1:** CountVectorizer, TfidfVectorizer, LogisticRegression, Multinomial Naive Bayes (MNB)\n",
    "***\n",
    "### Датасет:\n",
    "Набор текстовых данных разделённых по 20 группам  \n",
    "\n",
    "**Описание:**\n",
    "```\n",
    "The 20 Newsgroups data set is a collection of approximately 20,000 newsgroup documents, partitioned (nearly) evenly across 20 different newsgroups. \n",
    "The 20 newsgroups collection has become a popular data set for experiments in text applications of machine learning techniques, such as text classification and text clustering.\n",
    "```"
   ]
  },
  {
   "cell_type": "code",
   "execution_count": 34,
   "metadata": {},
   "outputs": [],
   "source": [
    "import numpy as np\n",
    "import pandas as pd\n",
    "from typing import Dict, Tuple\n",
    "from sklearn.feature_extraction.text import CountVectorizer, TfidfVectorizer\n",
    "from sklearn.model_selection import GridSearchCV, RandomizedSearchCV\n",
    "from sklearn.metrics import accuracy_score, balanced_accuracy_score\n",
    "from sklearn.metrics import precision_score, recall_score, f1_score, classification_report\n",
    "from sklearn.metrics import confusion_matrix\n",
    "from sklearn.model_selection import cross_val_score\n",
    "from sklearn.pipeline import Pipeline\n",
    "from sklearn.metrics import mean_absolute_error, mean_squared_error, mean_squared_log_error, median_absolute_error, r2_score \n",
    "from sklearn.metrics import roc_curve, roc_auc_score\n",
    "from sklearn.naive_bayes import MultinomialNB\n",
    "from sklearn.linear_model import LogisticRegression\n",
    "import seaborn as sns\n",
    "from collections import Counter\n",
    "from sklearn.datasets import fetch_20newsgroups\n",
    "import matplotlib.pyplot as plt\n",
    "\n",
    "# Отключим предупреждения\n",
    "import warnings\n",
    "warnings.filterwarnings('ignore')"
   ]
  },
  {
   "cell_type": "code",
   "execution_count": 23,
   "metadata": {},
   "outputs": [],
   "source": [
    "# Обозначим категории, которые желаем загрузить\n",
    "categories = [\"sci.crypt\", \n",
    "              \"sci.electronics\", \n",
    "              \"talk.religion.misc\", \n",
    "              \"rec.sport.baseball\"]\n",
    "newsgroups = fetch_20newsgroups(subset='train', categories=categories)\n",
    "data = newsgroups['data']"
   ]
  },
  {
   "cell_type": "code",
   "execution_count": 24,
   "metadata": {},
   "outputs": [],
   "source": [
    "# Используемся отработанной функцией вычисления метрики\n",
    "def accuracy_score_for_classes(\n",
    "    y_true: np.ndarray, \n",
    "    y_pred: np.ndarray) -> Dict[int, float]:\n",
    "    \"\"\"\n",
    "    Вычисление метрики accuracy для каждого класса\n",
    "    y_true - истинные значения классов\n",
    "    y_pred - предсказанные значения классов\n",
    "    Возвращает словарь: ключ - метка класса, \n",
    "    значение - Accuracy для данного класса\n",
    "    \"\"\"\n",
    "    # Для удобства фильтрации сформируем Pandas DataFrame \n",
    "    d = {'t': y_true, 'p': y_pred}\n",
    "    df = pd.DataFrame(data=d)\n",
    "    # Метки классов\n",
    "    classes = np.unique(y_true)\n",
    "    # Результирующий словарь\n",
    "    res = dict()\n",
    "    # Перебор меток классов\n",
    "    for c in classes:\n",
    "        # отфильтруем данные, которые соответствуют \n",
    "        # текущей метке класса в истинных значениях\n",
    "        temp_data_flt = df[df['t']==c]\n",
    "        # расчет accuracy для заданной метки класса\n",
    "        temp_acc = accuracy_score(\n",
    "            temp_data_flt['t'].values, \n",
    "            temp_data_flt['p'].values)\n",
    "        # сохранение результата в словарь\n",
    "        res[c] = temp_acc\n",
    "    return res\n",
    "\n",
    "def print_accuracy_score_for_classes(\n",
    "    y_true: np.ndarray, \n",
    "    y_pred: np.ndarray):\n",
    "    \"\"\"\n",
    "    Вывод метрики accuracy для каждого класса\n",
    "    \"\"\"\n",
    "    accs = accuracy_score_for_classes(y_true, y_pred)\n",
    "    if len(accs)>0:\n",
    "        print('Метка \\t Accuracy')\n",
    "    for i in accs:\n",
    "        print('{} \\t {}'.format(i, accs[i]))"
   ]
  },
  {
   "cell_type": "code",
   "execution_count": 25,
   "metadata": {},
   "outputs": [
    {
     "name": "stdout",
     "output_type": "stream",
     "text": [
      "Количество сформированных признаков - 33282\n"
     ]
    }
   ],
   "source": [
    "# С помощью CountVectorizer преобразуем коллекцию текстовых данных в матрицу счётчиков токенов\n",
    "vocabVect = CountVectorizer()\n",
    "vocabVect.fit(data)\n",
    "corpusVocab = vocabVect.vocabulary_\n",
    "print('Количество сформированных признаков - {}'.format(len(corpusVocab)))"
   ]
  },
  {
   "cell_type": "code",
   "execution_count": 26,
   "metadata": {},
   "outputs": [
    {
     "name": "stdout",
     "output_type": "stream",
     "text": [
      "philly=23632\n",
      "ravel=25268\n",
      "udel=30929\n",
      "edu=12456\n",
      "robert=26356\n",
      "hite=16186\n",
      "subject=29047\n",
      "re=25308\n",
      "dave=10693\n"
     ]
    }
   ],
   "source": [
    "# Отобразим нашу матрицу\n",
    "for i in list(corpusVocab)[1:10]:\n",
    "    print('{}={}'.format(i, corpusVocab[i]))"
   ]
  },
  {
   "cell_type": "code",
   "execution_count": 36,
   "metadata": {},
   "outputs": [],
   "source": [
    "test_features = vocabVect.transform(data)"
   ]
  },
  {
   "cell_type": "code",
   "execution_count": 37,
   "metadata": {},
   "outputs": [
    {
     "data": {
      "text/plain": [
       "<2160x33282 sparse matrix of type '<class 'numpy.int64'>'\n",
       "\twith 339881 stored elements in Compressed Sparse Row format>"
      ]
     },
     "execution_count": 37,
     "metadata": {},
     "output_type": "execute_result"
    }
   ],
   "source": [
    "test_features"
   ]
  },
  {
   "cell_type": "code",
   "execution_count": 38,
   "metadata": {},
   "outputs": [
    {
     "data": {
      "text/plain": [
       "matrix([[0, 3, 0, ..., 0, 0, 0],\n",
       "        [0, 0, 0, ..., 0, 0, 0],\n",
       "        [0, 0, 0, ..., 0, 0, 0],\n",
       "        ...,\n",
       "        [0, 0, 0, ..., 0, 0, 0],\n",
       "        [0, 0, 0, ..., 0, 0, 0],\n",
       "        [0, 0, 0, ..., 0, 0, 0]], dtype=int64)"
      ]
     },
     "execution_count": 38,
     "metadata": {},
     "output_type": "execute_result"
    }
   ],
   "source": [
    "test_features.todense()"
   ]
  },
  {
   "cell_type": "code",
   "execution_count": 28,
   "metadata": {},
   "outputs": [
    {
     "data": {
      "text/plain": [
       "33282"
      ]
     },
     "execution_count": 28,
     "metadata": {},
     "output_type": "execute_result"
    }
   ],
   "source": [
    "# Размер нулевой строки\n",
    "len(test_features.todense()[0].getA1())"
   ]
  },
  {
   "cell_type": "code",
   "execution_count": 42,
   "metadata": {},
   "outputs": [
    {
     "data": {
      "text/plain": [
       "['00101101b',\n",
       " '00101110',\n",
       " '00101110b',\n",
       " '00101111',\n",
       " '00101111b',\n",
       " '0011',\n",
       " '00110000',\n",
       " '00110000b',\n",
       " '00110001',\n",
       " '00110001b',\n",
       " '00110010',\n",
       " '00110010b',\n",
       " '00110011',\n",
       " '00110011b',\n",
       " '00110100',\n",
       " '00110100b',\n",
       " '00110101',\n",
       " '00110101b',\n",
       " '00110110',\n",
       " '00110110b']"
      ]
     },
     "execution_count": 42,
     "metadata": {},
     "output_type": "execute_result"
    }
   ],
   "source": [
    "vocabVect.get_feature_names()[100:120]"
   ]
  },
  {
   "cell_type": "code",
   "execution_count": 30,
   "metadata": {},
   "outputs": [],
   "source": [
    "# Функция применения к текстовым данных различных вариантов векторизации и классификации с использованием кросс-валидации\n",
    "def VectorizeAndClassify(vectorizers_list, classifiers_list):\n",
    "    for v in vectorizers_list:\n",
    "        for c in classifiers_list:\n",
    "            pipeline1 = Pipeline([(\"vectorizer\", v), (\"classifier\", c)])\n",
    "            score = cross_val_score(pipeline1, newsgroups['data'], newsgroups['target'], scoring='accuracy', cv=3).mean()\n",
    "            print('Векторизация - {}'.format(v))\n",
    "            print('Модель для классификации - {}'.format(c))\n",
    "            print('Accuracy = {}'.format(score))\n",
    "            print('===========================')"
   ]
  },
  {
   "cell_type": "code",
   "execution_count": 33,
   "metadata": {},
   "outputs": [
    {
     "name": "stdout",
     "output_type": "stream",
     "text": [
      "Векторизация - CountVectorizer(vocabulary={'00': 0, '000': 1, '00000000': 2, '00000000b': 3,\n",
      "                            '00000001': 4, '00000001b': 5, '00000010': 6,\n",
      "                            '00000010b': 7, '00000011': 8, '00000011b': 9,\n",
      "                            '00000100': 10, '00000100b': 11, '00000101': 12,\n",
      "                            '00000101b': 13, '00000110': 14, '00000110b': 15,\n",
      "                            '00000111': 16, '00000111b': 17, '00001000': 18,\n",
      "                            '00001000b': 19, '00001001': 20, '00001001b': 21,\n",
      "                            '00001010': 22, '00001010b': 23, '00001011': 24,\n",
      "                            '00001011b': 25, '00001100': 26, '00001100b': 27,\n",
      "                            '00001101': 28, '00001101b': 29, ...})\n",
      "Модель для классификации - LogisticRegression()\n",
      "Accuracy = 0.9564814814814815\n",
      "===========================\n",
      "Векторизация - CountVectorizer(vocabulary={'00': 0, '000': 1, '00000000': 2, '00000000b': 3,\n",
      "                            '00000001': 4, '00000001b': 5, '00000010': 6,\n",
      "                            '00000010b': 7, '00000011': 8, '00000011b': 9,\n",
      "                            '00000100': 10, '00000100b': 11, '00000101': 12,\n",
      "                            '00000101b': 13, '00000110': 14, '00000110b': 15,\n",
      "                            '00000111': 16, '00000111b': 17, '00001000': 18,\n",
      "                            '00001000b': 19, '00001001': 20, '00001001b': 21,\n",
      "                            '00001010': 22, '00001010b': 23, '00001011': 24,\n",
      "                            '00001011b': 25, '00001100': 26, '00001100b': 27,\n",
      "                            '00001101': 28, '00001101b': 29, ...})\n",
      "Модель для классификации - MultinomialNB()\n",
      "Accuracy = 0.9805555555555556\n",
      "===========================\n",
      "Векторизация - TfidfVectorizer(vocabulary={'00': 0, '000': 1, '00000000': 2, '00000000b': 3,\n",
      "                            '00000001': 4, '00000001b': 5, '00000010': 6,\n",
      "                            '00000010b': 7, '00000011': 8, '00000011b': 9,\n",
      "                            '00000100': 10, '00000100b': 11, '00000101': 12,\n",
      "                            '00000101b': 13, '00000110': 14, '00000110b': 15,\n",
      "                            '00000111': 16, '00000111b': 17, '00001000': 18,\n",
      "                            '00001000b': 19, '00001001': 20, '00001001b': 21,\n",
      "                            '00001010': 22, '00001010b': 23, '00001011': 24,\n",
      "                            '00001011b': 25, '00001100': 26, '00001100b': 27,\n",
      "                            '00001101': 28, '00001101b': 29, ...})\n",
      "Модель для классификации - LogisticRegression()\n",
      "Accuracy = 0.9523148148148147\n",
      "===========================\n",
      "Векторизация - TfidfVectorizer(vocabulary={'00': 0, '000': 1, '00000000': 2, '00000000b': 3,\n",
      "                            '00000001': 4, '00000001b': 5, '00000010': 6,\n",
      "                            '00000010b': 7, '00000011': 8, '00000011b': 9,\n",
      "                            '00000100': 10, '00000100b': 11, '00000101': 12,\n",
      "                            '00000101b': 13, '00000110': 14, '00000110b': 15,\n",
      "                            '00000111': 16, '00000111b': 17, '00001000': 18,\n",
      "                            '00001000b': 19, '00001001': 20, '00001001b': 21,\n",
      "                            '00001010': 22, '00001010b': 23, '00001011': 24,\n",
      "                            '00001011b': 25, '00001100': 26, '00001100b': 27,\n",
      "                            '00001101': 28, '00001101b': 29, ...})\n",
      "Модель для классификации - MultinomialNB()\n",
      "Accuracy = 0.8898148148148147\n",
      "===========================\n"
     ]
    }
   ],
   "source": [
    "# Определяем варианты векторизации и классификации и устанавливаем преднастройки\n",
    "vectorizers_list = [CountVectorizer(vocabulary = corpusVocab), TfidfVectorizer(vocabulary = corpusVocab)]\n",
    "classifiers_list = [LogisticRegression(), MultinomialNB()]\n",
    "VectorizeAndClassify(vectorizers_list, classifiers_list)"
   ]
  },
  {
   "cell_type": "markdown",
   "metadata": {},
   "source": [
    "***\n",
    "#### `CountVectorizer` с `Multinomial Naive Bayes` показали лучший результат - 0.9805"
   ]
  },
  {
   "cell_type": "code",
   "execution_count": null,
   "metadata": {},
   "outputs": [],
   "source": []
  }
 ],
 "metadata": {
  "kernelspec": {
   "display_name": "Python 3",
   "language": "python",
   "name": "python3"
  },
  "language_info": {
   "codemirror_mode": {
    "name": "ipython",
    "version": 3
   },
   "file_extension": ".py",
   "mimetype": "text/x-python",
   "name": "python",
   "nbconvert_exporter": "python",
   "pygments_lexer": "ipython3",
   "version": "3.8.3"
  }
 },
 "nbformat": 4,
 "nbformat_minor": 4
}
